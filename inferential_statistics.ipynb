{
 "cells": [
  {
   "cell_type": "markdown",
   "metadata": {},
   "source": [
    "# Import dependencies and determine working directory"
   ]
  },
  {
   "cell_type": "code",
   "execution_count": 1,
   "metadata": {
    "collapsed": true
   },
   "outputs": [],
   "source": [
    "# Import libraries\n",
    "import json\n",
    "import os\n",
    "import pandas as pd\n",
    "import matplotlib.pyplot as plt\n",
    "import numpy as np\n",
    "import seaborn as sns\n",
    "import scipy.stats as st"
   ]
  },
  {
   "cell_type": "code",
   "execution_count": 2,
   "metadata": {
    "collapsed": true
   },
   "outputs": [],
   "source": [
    "# get current directory\n",
    "dir = os.path.dirname(os.path.abspath('__file__'))"
   ]
  },
  {
   "cell_type": "markdown",
   "metadata": {},
   "source": [
    "# Load review data¶"
   ]
  },
  {
   "cell_type": "code",
   "execution_count": 26,
   "metadata": {
    "collapsed": true
   },
   "outputs": [],
   "source": [
    "# Load review data \n",
    "# Raw data in the format of {} {} {} seperated by lines\n",
    "\n",
    "# get file path (generalize for different OS) for reviews\n",
    "filename_review = os.path.join(dir, '01_raw_data','review.json')\n",
    "\n",
    "# create a list of reviews\n",
    "with open(filename_review, encoding=\"utf8\", mode='r') as file:\n",
    "    reviews = [json.loads(line) for line in file]\n",
    "\n",
    "# create a pandas data frame from review data \n",
    "reviews_df = pd.DataFrame(reviews)"
   ]
  },
  {
   "cell_type": "markdown",
   "metadata": {},
   "source": [
    "# Load business data"
   ]
  },
  {
   "cell_type": "code",
   "execution_count": 27,
   "metadata": {
    "collapsed": true
   },
   "outputs": [],
   "source": [
    "# Load business data \n",
    "\n",
    "# get file path (generalize for different OS) for reviews\n",
    "filename_business = os.path.join(dir, '01_raw_data','business.json')\n",
    "\n",
    "# create a list of reviews\n",
    "with open(filename_business, encoding=\"utf8\", mode='r') as file:\n",
    "    businesses = [json.loads(line) for line in file]\n",
    "\n",
    "# create a pandas data frame from review data \n",
    "businesses_df = pd.DataFrame(businesses)"
   ]
  },
  {
   "cell_type": "markdown",
   "metadata": {},
   "source": [
    "# Merge and pre-process data frames for inferential statistics\n",
    "Keep all columns"
   ]
  },
  {
   "cell_type": "code",
   "execution_count": 28,
   "metadata": {
    "collapsed": true
   },
   "outputs": [],
   "source": [
    "# convert date to a datetime - note stars will be kept as an integer vs category\n",
    "reviews_df['date'] = pd.to_datetime(reviews_df['date'], format='%Y-%m-%d')\n",
    "\n",
    "# Extract restaurants \n",
    "restaurants_df = businesses_df[ businesses_df['categories'].apply(lambda categories: any(pd.Series(categories).str.contains('Restaurants')) if len(categories)>0 else False)]\n",
    "\n",
    "# Restrict restaurants to the USA using a bounding box \n",
    "restaurants_df = restaurants_df[ (restaurants_df['latitude'] >= 24.7433195) & (restaurants_df['latitude'] <= 49.3457868) & (restaurants_df['longitude'] >= -124.7844079) & (restaurants_df['longitude'] <= -66.9513812)]\n",
    "\n",
    "# Merge both data frames\n",
    "joint_df = pd.merge(reviews_df, restaurants_df, on='business_id', suffixes=['_review', '_business'])"
   ]
  },
  {
   "cell_type": "code",
   "execution_count": 29,
   "metadata": {},
   "outputs": [
    {
     "name": "stdout",
     "output_type": "stream",
     "text": [
      "<class 'pandas.core.frame.DataFrame'>\n",
      "Int64Index: 2876509 entries, 0 to 2876508\n",
      "Data columns (total 23 columns):\n",
      "business_id       object\n",
      "cool              int64\n",
      "date              datetime64[ns]\n",
      "funny             int64\n",
      "review_id         object\n",
      "stars_review      int64\n",
      "text              object\n",
      "useful            int64\n",
      "user_id           object\n",
      "address           object\n",
      "attributes        object\n",
      "categories        object\n",
      "city              object\n",
      "hours             object\n",
      "is_open           int64\n",
      "latitude          float64\n",
      "longitude         float64\n",
      "name              object\n",
      "neighborhood      object\n",
      "postal_code       object\n",
      "review_count      int64\n",
      "stars_business    float64\n",
      "state             object\n",
      "dtypes: datetime64[ns](1), float64(3), int64(6), object(13)\n",
      "memory usage: 526.7+ MB\n",
      "None\n"
     ]
    }
   ],
   "source": [
    "print(joint_df.info())"
   ]
  },
  {
   "cell_type": "markdown",
   "metadata": {},
   "source": [
    "# Validate decision to drop columns other than review text and review stars"
   ]
  },
  {
   "cell_type": "markdown",
   "metadata": {},
   "source": [
    "## Review numeric columns"
   ]
  },
  {
   "cell_type": "code",
   "execution_count": 30,
   "metadata": {
    "scrolled": false
   },
   "outputs": [
    {
     "name": "stdout",
     "output_type": "stream",
     "text": [
      "                    cool     funny  stars_review    useful   is_open  \\\n",
      "cool            1.000000  0.846138      0.042902  0.854624 -0.015011   \n",
      "funny           0.846138  1.000000     -0.041543  0.823759 -0.020031   \n",
      "stars_review    0.042902 -0.041543      1.000000 -0.040162  0.051385   \n",
      "useful          0.854624  0.823759     -0.040162  1.000000 -0.028944   \n",
      "is_open        -0.015011 -0.020031      0.051385 -0.028944  1.000000   \n",
      "latitude       -0.029170 -0.037964     -0.031977 -0.026753  0.011822   \n",
      "longitude      -0.047311 -0.051008     -0.033299 -0.035423  0.015738   \n",
      "review_count    0.022783  0.022769      0.066223  0.007781  0.084150   \n",
      "stars_business  0.043261 -0.000225      0.413689  0.012131  0.115686   \n",
      "\n",
      "                latitude  longitude  review_count  stars_business  \n",
      "cool           -0.029170  -0.047311      0.022783        0.043261  \n",
      "funny          -0.037964  -0.051008      0.022769       -0.000225  \n",
      "stars_review   -0.031977  -0.033299      0.066223        0.413689  \n",
      "useful         -0.026753  -0.035423      0.007781        0.012131  \n",
      "is_open         0.011822   0.015738      0.084150        0.115686  \n",
      "latitude        1.000000   0.810437     -0.159074       -0.073632  \n",
      "longitude       0.810437   1.000000     -0.291484       -0.078719  \n",
      "review_count   -0.159074  -0.291484      1.000000        0.157608  \n",
      "stars_business -0.073632  -0.078719      0.157608        1.000000  \n"
     ]
    }
   ],
   "source": [
    "correlation_matrix = joint_df.corr(method='pearson')\n",
    "print(correlation_matrix)"
   ]
  },
  {
   "cell_type": "markdown",
   "metadata": {},
   "source": [
    "It can be noted that there are high correlations between 'cool', 'funny' and 'useful' reviews. This might be helpful for a future analysis of what makes a good review.\n",
    "\n",
    "However, the target of our current analysis, 'stars_review', does not have notable correlations to anything other than the 'stars_business'. This makes sense since 'stars_business' is the average of 'stars_review' for a restaurant and there are a large number of restaurants with a low number of reviews (see data story telling), however this isn't very helpful. \n",
    "\n",
    "Therefore, we can conclude that for our analysis of 'stars_review', we can drop the columns: 'cool', 'funny', 'useful', 'is_open', 'latitude', 'longitude', 'review_count', 'stars_business' "
   ]
  },
  {
   "cell_type": "code",
   "execution_count": 31,
   "metadata": {
    "collapsed": true
   },
   "outputs": [],
   "source": [
    "# drop numeric columns with low correlations\n",
    "dropped_columns = ['cool', 'funny', 'useful', 'is_open', 'latitude', 'longitude', 'review_count', 'stars_business']\n",
    "for column in dropped_columns:\n",
    "    del joint_df[column]"
   ]
  },
  {
   "cell_type": "markdown",
   "metadata": {},
   "source": [
    "## Review non-numeric columns"
   ]
  },
  {
   "cell_type": "code",
   "execution_count": 32,
   "metadata": {},
   "outputs": [
    {
     "name": "stdout",
     "output_type": "stream",
     "text": [
      "state\n",
      "AZ    837240\n",
      "IL     22193\n",
      "NC    180619\n",
      "NV    949830\n",
      "NY        73\n",
      "OH    154764\n",
      "ON    414444\n",
      "PA    143304\n",
      "QC     98967\n",
      "SC      5981\n",
      "WA        39\n",
      "WI     69055\n",
      "Name: stars_review, dtype: int64\n"
     ]
    },
    {
     "data": {
      "image/png": "[encoded data removed]",
      "text/plain": [
       "<matplotlib.figure.Figure at 0x107a92cf8>"
      ]
     },
     "metadata": {},
     "output_type": "display_data"
    }
   ],
   "source": [
    "# Check if states are related to the star rating\n",
    "print(joint_df.groupby('state')['stars_review'].count())\n",
    "sns.boxplot(x='state', y='stars_review', data=joint_df)\n",
    "plt.show()"
   ]
  },
  {
   "cell_type": "markdown",
   "metadata": {},
   "source": [
    "The distribution of stars awarded by reviews are consistent with the exception of WA and SC. We see that WA has a very low number of reviews do not expect it to impact the analysis significantly. \n",
    "\n",
    "SC has a greater proportion of low star ratings but not a very high number of reviews. We suspect this will not significantly impact the analysis either.\n",
    "\n",
    "Since there is little correlation between 'stars_review', 'latitude' and 'longitude' as well as 'state', we will infer that location associated columns will not help us to determine the 'stars_review'."
   ]
  },
  {
   "cell_type": "code",
   "execution_count": 33,
   "metadata": {
    "collapsed": true
   },
   "outputs": [],
   "source": [
    "# drop columns associated with location\n",
    "dropped_columns = ['address', 'city', 'neighborhood', 'postal_code', 'state']\n",
    "for column in dropped_columns:\n",
    "    del joint_df[column]"
   ]
  },
  {
   "cell_type": "code",
   "execution_count": 34,
   "metadata": {},
   "outputs": [
    {
     "name": "stdout",
     "output_type": "stream",
     "text": [
      "<class 'pandas.core.frame.DataFrame'>\n",
      "Int64Index: 2876509 entries, 0 to 2876508\n",
      "Data columns (total 10 columns):\n",
      "business_id     object\n",
      "date            datetime64[ns]\n",
      "review_id       object\n",
      "stars_review    int64\n",
      "text            object\n",
      "user_id         object\n",
      "attributes      object\n",
      "categories      object\n",
      "hours           object\n",
      "name            object\n",
      "dtypes: datetime64[ns](1), int64(1), object(8)\n",
      "memory usage: 321.4+ MB\n",
      "None\n"
     ]
    }
   ],
   "source": [
    "print(joint_df.info())"
   ]
  },
  {
   "cell_type": "markdown",
   "metadata": {},
   "source": [
    "The point of a review is to rate a business, to assign the rating based on the business ID or name would reinforce the bias, therefore we will remove 'name', 'business_id'. Since 'review_id' is an idex, we'll remove that too. \n",
    "\n",
    "The remaining columns: 'user_id', 'attributes', 'categories', 'hours'\n",
    "- 'user_id' : in the previous analysis we noted that majority of reviews have no previews reviews \n",
    "- 'attributes', 'categories', 'hours': are descriptors of the business and not the review "
   ]
  },
  {
   "cell_type": "code",
   "execution_count": 35,
   "metadata": {
    "collapsed": true
   },
   "outputs": [],
   "source": [
    "# drop columns associated with location\n",
    "dropped_columns = ['name', 'business_id', 'review_id', 'user_id', 'attributes', 'categories', 'hours']\n",
    "for column in dropped_columns:\n",
    "    del joint_df[column]"
   ]
  },
  {
   "cell_type": "markdown",
   "metadata": {},
   "source": [
    "# Verify that review text contain words that may be statistically significant"
   ]
  },
  {
   "cell_type": "markdown",
   "metadata": {},
   "source": [
    "In the exploratory data analysis section, it was observed that particular words such as 'bad' and 'best' might be good indicators of the star rating of the review. The hypothesis that frequency of occurrence for the two words are statistically significant will be tested. "
   ]
  },
  {
   "cell_type": "markdown",
   "metadata": {},
   "source": [
    "## Load pre-processed data (Uni-gram)"
   ]
  },
  {
   "cell_type": "code",
   "execution_count": 3,
   "metadata": {
    "collapsed": true
   },
   "outputs": [],
   "source": [
    "# Import packages\n",
    "from sklearn.feature_extraction.text import CountVectorizer\n",
    "\n",
    "# Load pre-processed data\n",
    "file_path = os.path.join(dir, '02_processed_data','restaurant_reviews.csv')\n",
    "pre_processed_joint_df = pd.read_csv(file_path, index_col = False, parse_dates= ['date'])\n",
    "\n",
    "# Initialize scikit-learn's bag of words tool -  \"CountVectorizer\"\n",
    "# Source: http://scikit-learn.org/stable/modules/generated/sklearn.feature_extraction.text.CountVectorizer.html\n",
    "vectorizer = CountVectorizer(analyzer = 'word',\n",
    "                             max_features= 5000,\n",
    "                             max_df=0.95, \n",
    "                             min_df=0.001)\n",
    "\n",
    "vectorized_uni_text = vectorizer.fit_transform( pre_processed_joint_df['processed_review'] )"
   ]
  },
  {
   "cell_type": "markdown",
   "metadata": {},
   "source": [
    "## Get indices of 'bad' and 'best'"
   ]
  },
  {
   "cell_type": "code",
   "execution_count": 4,
   "metadata": {
    "collapsed": true
   },
   "outputs": [],
   "source": [
    "# Get index positions of the words 'bad' and 'best'\n",
    "vocab = vectorizer.vocabulary_\n",
    "index_of_bad = vocab['bad']\n",
    "index_of_best = vocab['best']"
   ]
  },
  {
   "cell_type": "markdown",
   "metadata": {},
   "source": [
    "## Create dataframe for analysis\n",
    "- with reviews as observations, \n",
    "- the number of stars awarded by the review, \n",
    "- the number of times the words 'bad' and 'best' appeared in the review text "
   ]
  },
  {
   "cell_type": "code",
   "execution_count": 5,
   "metadata": {},
   "outputs": [
    {
     "name": "stdout",
     "output_type": "stream",
     "text": [
      "555557\n"
     ]
    }
   ],
   "source": [
    "# Convert sparse matrix to dataframe\n",
    "dense_df = pd.DataFrame(vectorized_uni_text.toarray())\n",
    "\n",
    "# Extract bad and best columns\n",
    "bad_df = dense_df.iloc[:, index_of_bad]\n",
    "best_df = dense_df.iloc[:, index_of_best]\n",
    "\n",
    "# Verify that the best column has the same total as found in the data storytelling analysis - 555557\n",
    "print(sum(best_df))\n",
    "\n",
    "# Add the stars_review column to each of the data frames\n",
    "bad_best_df = pd.concat([pre_processed_joint_df['stars_review'], bad_df, best_df], axis=1)\n",
    "bad_best_df.columns = ['stars', 'bad', 'best']"
   ]
  },
  {
   "cell_type": "markdown",
   "metadata": {},
   "source": [
    "## Permutation tests for data coming from identical distributions\n",
    "Since reviews are assumed to be independent events, the Central Limit Theorem (CLT) would be applicable to the rate of appearence of a frequently used word such as 'bad' or 'best'. In addition, the difference in frequency of occurences is expected to be normally distributed. "
   ]
  },
  {
   "cell_type": "code",
   "execution_count": 6,
   "metadata": {
    "collapsed": true
   },
   "outputs": [],
   "source": [
    "# define reusable functions (note: code adapted from Data Camp)\n",
    "def permutation_sample(data1, data2):\n",
    "    \"\"\"Generate a permutation sample from two data sets.\"\"\"\n",
    "\n",
    "    # Concatenate the data sets: data\n",
    "    data = np.concatenate((data1, data2))\n",
    "\n",
    "    # Permute the concatenated array: permuted_data\n",
    "    permuted_data = np.random.permutation(data)\n",
    "\n",
    "    # Split the permuted array into two: perm_sample_1, perm_sample_2\n",
    "    perm_sample_1 = permuted_data[:len(data1)]\n",
    "    perm_sample_2 = permuted_data[len(data1):]\n",
    "\n",
    "    return perm_sample_1, perm_sample_2\n",
    "\n",
    "def draw_perm_reps(data_1, data_2, func, size=1):\n",
    "    \"\"\"Generate multiple permutation replicates.\"\"\"\n",
    "\n",
    "    # Initialize array of replicates: perm_replicates\n",
    "    perm_replicates = np.empty(size)\n",
    "\n",
    "    for i in range(size):\n",
    "        # Generate permutation sample\n",
    "        perm_sample_1, perm_sample_2 = permutation_sample(data_1, data_2)\n",
    "\n",
    "        # Compute the test statistic\n",
    "        perm_replicates[i] = func(perm_sample_1, perm_sample_2)\n",
    "        \n",
    "#         # Output a value to inform the user of progress\n",
    "#         if i%500 == 0: print('Processing permutation :', i) \n",
    "\n",
    "    return perm_replicates\n",
    "\n",
    "def diff_of_means(data_1, data_2):\n",
    "    \"\"\"Difference in means of two arrays.\"\"\"\n",
    "\n",
    "    # The difference of means of data_1, data_2: diff\n",
    "    diff = np.mean(data_1) - np.mean(data_2)\n",
    "\n",
    "    return diff"
   ]
  },
  {
   "cell_type": "markdown",
   "metadata": {},
   "source": [
    "### Hypothesis test to see if the distribution of the word 'bad' is significantly different for 1 star reviews\n",
    "- Null hypothesis: The frequency of appearance of the word 'bad' is identical for 1 star rated reviews and the other reviews\n",
    "- Test statistic: Frequency (rate) of 'bad' appearing"
   ]
  },
  {
   "cell_type": "code",
   "execution_count": 7,
   "metadata": {
    "collapsed": true
   },
   "outputs": [],
   "source": [
    "# Create data sets \n",
    "bad_1star = bad_best_df[bad_best_df['stars'] == 1]['bad']\n",
    "bad_2345 = bad_best_df[bad_best_df['stars'] != 1]['bad']"
   ]
  },
  {
   "cell_type": "code",
   "execution_count": 8,
   "metadata": {},
   "outputs": [
    {
     "name": "stdout",
     "output_type": "stream",
     "text": [
      "p-value = 0.0\n"
     ]
    }
   ],
   "source": [
    "# Compute empirical difference of frequency of appearance \n",
    "empirical_diff_means = diff_of_means(bad_1star, bad_2345)\n",
    "\n",
    "# Draw 10,000 permutation replicates: perm_replicates\n",
    "perm_replicates = draw_perm_reps(bad_1star, bad_2345,\n",
    "                               diff_of_means, size=10000)\n",
    "\n",
    "# Compute p-value: p\n",
    "p = np.sum(perm_replicates >= empirical_diff_means) / len(perm_replicates)\n",
    "\n",
    "# Print the result\n",
    "print('p-value =', p)"
   ]
  },
  {
   "cell_type": "code",
   "execution_count": 9,
   "metadata": {},
   "outputs": [
    {
     "name": "stdout",
     "output_type": "stream",
     "text": [
      "The empirical mean is:  0.131362022291\n",
      "The theoretical mean is:  -1.71939774808e-07\n",
      "The theoretical standard deviation is:  0.000653329613357\n"
     ]
    }
   ],
   "source": [
    "# Check empirical and hypothetical frequences \n",
    "print('The empirical mean is: ', empirical_diff_means)\n",
    "print('The theoretical mean is: ', np.mean(perm_replicates))\n",
    "print('The theoretical standard deviation is: ', np.std(perm_replicates))"
   ]
  },
  {
   "cell_type": "markdown",
   "metadata": {},
   "source": [
    "The p-value for the frequency of the word 'bad' occurring in the text of a 1 star review is statistically significant. "
   ]
  },
  {
   "cell_type": "markdown",
   "metadata": {},
   "source": [
    "### Hypothesis test to see if the distribution of the word 'bad' is significantly different for 5 star reviews\n",
    "- Null hypothesis: The frequency of appearance of the word 'bad' is identical for 5 star rated reviews and the other reviews\n",
    "- Test statistic: Frequency (rate) of 'bad' appearing"
   ]
  },
  {
   "cell_type": "code",
   "execution_count": 10,
   "metadata": {
    "collapsed": true
   },
   "outputs": [],
   "source": [
    "# Create data sets \n",
    "bad_5star = bad_best_df[bad_best_df['stars'] == 5]['bad']\n",
    "bad_1234 = bad_best_df[bad_best_df['stars'] != 5]['bad']"
   ]
  },
  {
   "cell_type": "code",
   "execution_count": 11,
   "metadata": {},
   "outputs": [
    {
     "name": "stdout",
     "output_type": "stream",
     "text": [
      "p-value = 0.0\n"
     ]
    }
   ],
   "source": [
    "# Compute empirical difference of frequency of appearance \n",
    "empirical_diff_means = diff_of_means(bad_5star, bad_1234)\n",
    "\n",
    "# Draw 10,000 permutation replicates: perm_replicates\n",
    "perm_replicates = draw_perm_reps(bad_5star, bad_1234,\n",
    "                               diff_of_means, size=10000)\n",
    "\n",
    "# Compute p-value: p\n",
    "p = np.sum(perm_replicates <= empirical_diff_means) / len(perm_replicates)\n",
    "\n",
    "# Print the result\n",
    "print('p-value =', p)"
   ]
  },
  {
   "cell_type": "code",
   "execution_count": 12,
   "metadata": {},
   "outputs": [
    {
     "name": "stdout",
     "output_type": "stream",
     "text": [
      "The empirical mean is:  -0.0941255822317\n",
      "The theoretical mean is:  4.69866328094e-06\n",
      "The theoretical standard deviation is:  0.000427959434541\n"
     ]
    }
   ],
   "source": [
    "# Check empirical and hypothetical frequences \n",
    "print('The empirical mean is: ', empirical_diff_means)\n",
    "print('The theoretical mean is: ', np.mean(perm_replicates))\n",
    "print('The theoretical standard deviation is: ', np.std(perm_replicates))"
   ]
  },
  {
   "cell_type": "markdown",
   "metadata": {},
   "source": [
    "The p-value for the frequency of the word 'bad' occurring in the text of a 5 star review is statistically significant. "
   ]
  },
  {
   "cell_type": "markdown",
   "metadata": {},
   "source": [
    "### Hypothesis test to see if the distribution of the word 'best' is significantly different for 1 star reviews\n",
    "- Null hypothesis: The frequency of appearance of the word 'best' is identical for 1 star rated reviews and the other reviews\n",
    "- Test statistic: Frequency (rate) of 'best' appearing"
   ]
  },
  {
   "cell_type": "code",
   "execution_count": 13,
   "metadata": {
    "collapsed": true
   },
   "outputs": [],
   "source": [
    "# Create data sets \n",
    "best_1star = bad_best_df[bad_best_df['stars'] == 1]['best']\n",
    "best_2345 = bad_best_df[bad_best_df['stars'] != 1]['best']"
   ]
  },
  {
   "cell_type": "code",
   "execution_count": 14,
   "metadata": {},
   "outputs": [
    {
     "name": "stdout",
     "output_type": "stream",
     "text": [
      "p-value = 0.0\n"
     ]
    }
   ],
   "source": [
    "# Compute empirical difference of frequency of appearance \n",
    "empirical_diff_means = diff_of_means(best_1star, best_2345)\n",
    "\n",
    "# Draw 10,000 permutation replicates: perm_replicates\n",
    "perm_replicates = draw_perm_reps(best_1star, best_2345,\n",
    "                               diff_of_means, size=10000)\n",
    "\n",
    "# Compute p-value: p\n",
    "p = np.sum(perm_replicates <= empirical_diff_means) / len(perm_replicates)\n",
    "\n",
    "# Print the result\n",
    "print('p-value =', p)"
   ]
  },
  {
   "cell_type": "code",
   "execution_count": 15,
   "metadata": {},
   "outputs": [
    {
     "name": "stdout",
     "output_type": "stream",
     "text": [
      "The empirical mean is:  -0.137868742356\n",
      "The theoretical mean is:  3.62393846388e-06\n",
      "The theoretical standard deviation is:  0.000893537376816\n"
     ]
    }
   ],
   "source": [
    "# Check empirical and hypothetical frequences \n",
    "print('The empirical mean is: ', empirical_diff_means)\n",
    "print('The theoretical mean is: ', np.mean(perm_replicates))\n",
    "print('The theoretical standard deviation is: ', np.std(perm_replicates))"
   ]
  },
  {
   "cell_type": "markdown",
   "metadata": {},
   "source": [
    "The p-value for the frequency of the word 'best' occurring in the text of a 1 star review is statistically significant. "
   ]
  },
  {
   "cell_type": "markdown",
   "metadata": {},
   "source": [
    "### Hypothesis test to see if the distribution of the word 'best' is significantly different for 5 star reviews\n",
    "- Null hypothesis: The frequency of appearance of the word 'best' is identical for 5 star rated reviews and the other reviews\n",
    "- Test statistic: Frequency (rate) of 'best' appearing"
   ]
  },
  {
   "cell_type": "code",
   "execution_count": 16,
   "metadata": {
    "collapsed": true
   },
   "outputs": [],
   "source": [
    "# Create data sets \n",
    "best_5star = bad_best_df[bad_best_df['stars'] == 5]['best']\n",
    "best_1234 = bad_best_df[bad_best_df['stars'] != 5]['best']"
   ]
  },
  {
   "cell_type": "code",
   "execution_count": 17,
   "metadata": {},
   "outputs": [
    {
     "name": "stdout",
     "output_type": "stream",
     "text": [
      "p-value = 0.0\n"
     ]
    }
   ],
   "source": [
    "# Compute empirical difference of frequency of appearance \n",
    "empirical_diff_means = diff_of_means(best_5star, best_1234)\n",
    "\n",
    "# Draw 10,000 permutation replicates: perm_replicates\n",
    "perm_replicates = draw_perm_reps(best_5star, best_1234,\n",
    "                               diff_of_means, size=10000)\n",
    "\n",
    "# Compute p-value: p\n",
    "p = np.sum(perm_replicates >= empirical_diff_means) / len(perm_replicates)\n",
    "\n",
    "# Print the result\n",
    "print('p-value =', p)"
   ]
  },
  {
   "cell_type": "code",
   "execution_count": 18,
   "metadata": {},
   "outputs": [
    {
     "name": "stdout",
     "output_type": "stream",
     "text": [
      "The empirical mean is:  0.152706439507\n",
      "The theoretical mean is:  1.91561885134e-06\n",
      "The theoretical standard deviation is:  0.000579717133499\n"
     ]
    }
   ],
   "source": [
    "# Check empirical and hypothetical frequences \n",
    "print('The empirical mean is: ', empirical_diff_means)\n",
    "print('The theoretical mean is: ', np.mean(perm_replicates))\n",
    "print('The theoretical standard deviation is: ', np.std(perm_replicates))"
   ]
  },
  {
   "cell_type": "markdown",
   "metadata": {},
   "source": [
    "The p-value for the frequency of the word 'best' occurring in the text of a 5 star review is statistically significant. "
   ]
  },
  {
   "cell_type": "markdown",
   "metadata": {},
   "source": [
    ".\n",
    "\n",
    ".\n",
    "\n",
    ".\n",
    "\n",
    ".\n",
    "\n",
    ".\n",
    "\n",
    ".\n",
    "\n",
    ".\n",
    "\n",
    ".\n",
    "\n",
    ".\n",
    "\n",
    ".\n",
    "\n",
    ".\n",
    "\n",
    ".\n",
    "\n",
    ".\n",
    "\n",
    ".\n",
    "\n",
    ".\n",
    "\n",
    ".\n",
    "\n",
    ".\n",
    "\n",
    ".\n"
   ]
  },
  {
   "cell_type": "markdown",
   "metadata": {},
   "source": [
    "# Test Code"
   ]
  },
  {
   "cell_type": "code",
   "execution_count": 19,
   "metadata": {
    "collapsed": true
   },
   "outputs": [],
   "source": [
    "# Create data sets \n",
    "bad_1star = bad_best_df[bad_best_df['stars'] == 1]['bad']\n",
    "bad_5star = bad_best_df[bad_best_df['stars'] == 5]['bad']\n",
    "bad_all = bad_best_df['bad']"
   ]
  },
  {
   "cell_type": "code",
   "execution_count": 20,
   "metadata": {},
   "outputs": [
    {
     "name": "stdout",
     "output_type": "stream",
     "text": [
      "Frequency of appearance:  0.212374838894\n",
      "Confidence interval for frequency of appearance:  -0.591059426563  to  0.782210575404\n",
      "Statistical significance:  0.630582852476\n"
     ]
    }
   ],
   "source": [
    "# Compute empirical frequency of appearance for 1 star reviews\n",
    "empirical_mean = np.mean( bad_1star )\n",
    "\n",
    "# Compute population mean and standard deviation\n",
    "mu = np.mean(bad_all)\n",
    "sigma = np.std(bad_all)\n",
    "\n",
    "# Get Z score of 1 star reviews\n",
    "z_score = (empirical_mean - mu) /sigma\n",
    "\n",
    "# The actual frequency of appearance \n",
    "print('Frequency of appearance: ', empirical_mean )\n",
    "\n",
    "# The confidence interval for frequency of appearance \n",
    "lower_bound = st.norm.ppf(.025) * sigma + mu \n",
    "upper_bound = st.norm.ppf(.975) * sigma + mu\n",
    "print('Confidence interval for frequency of appearance: ', lower_bound , ' to ', upper_bound )\n",
    "\n",
    "# The statistical significance of frequency of appearance for 1 star reviews \n",
    "print('Statistical significance: ', st.norm.cdf(z_score) )"
   ]
  },
  {
   "cell_type": "code",
   "execution_count": 21,
   "metadata": {
    "scrolled": true
   },
   "outputs": [
    {
     "name": "stdout",
     "output_type": "stream",
     "text": [
      "0.0955755744202\n",
      "0.350330417497\n",
      "count    2.876509e+06\n",
      "mean     9.557557e-02\n",
      "std      3.503305e-01\n",
      "min      0.000000e+00\n",
      "25%      0.000000e+00\n",
      "50%      0.000000e+00\n",
      "75%      0.000000e+00\n",
      "max      1.500000e+01\n",
      "Name: bad, dtype: float64\n"
     ]
    }
   ],
   "source": [
    "print(mu )\n",
    "print(sigma )\n",
    "print(bad_all.describe())"
   ]
  },
  {
   "cell_type": "code",
   "execution_count": 22,
   "metadata": {},
   "outputs": [
    {
     "name": "stdout",
     "output_type": "stream",
     "text": [
      "Frequency of appearance:  0.0363429709633\n",
      "Confidence interval for frequency of appearance:  -0.591059426563  to  0.782210575404\n",
      "Statistical significance:  0.4328682765\n"
     ]
    }
   ],
   "source": [
    "# Compute empirical frequency of appearance for 5 star reviews\n",
    "empirical_mean = np.mean( bad_5star )\n",
    "\n",
    "# Compute population mean and standard deviation\n",
    "mu = np.mean(bad_all)\n",
    "sigma = np.std(bad_all)\n",
    "\n",
    "# Get Z score of 5 star reviews\n",
    "z_score = (empirical_mean - mu) /sigma\n",
    "\n",
    "# The actual frequency of appearance \n",
    "print('Frequency of appearance: ', empirical_mean )\n",
    "\n",
    "# The confidence interval for frequency of appearance \n",
    "lower_bound = st.norm.ppf(.025) * sigma + mu\n",
    "upper_bound = st.norm.ppf(.975) * sigma + mu\n",
    "print('Confidence interval for frequency of appearance: ', lower_bound , ' to ', upper_bound )\n",
    "\n",
    "# The statistical significance of frequency of appearance for 5 star reviews \n",
    "print('Statistical significance: ', st.norm.cdf(z_score) )"
   ]
  },
  {
   "cell_type": "code",
   "execution_count": 23,
   "metadata": {
    "collapsed": true
   },
   "outputs": [],
   "source": [
    "# Create data sets \n",
    "best_1star = bad_best_df[bad_best_df['stars'] == 1]['best']\n",
    "best_5star = bad_best_df[bad_best_df['stars'] == 5]['best']\n",
    "best_all = bad_best_df['best']"
   ]
  },
  {
   "cell_type": "code",
   "execution_count": 24,
   "metadata": {},
   "outputs": [
    {
     "name": "stdout",
     "output_type": "stream",
     "text": [
      "Frequency of appearance:  0.0705511949299\n",
      "Confidence interval for frequency of appearance:  -0.736809845008  to  1.12308153753\n",
      "Statistical significance:  0.398064238033\n"
     ]
    }
   ],
   "source": [
    "# Compute empirical frequency of appearance for 1 star reviews\n",
    "empirical_mean = np.mean( best_1star )\n",
    "\n",
    "# Compute population mean and standard deviation\n",
    "mu = np.mean(best_all)\n",
    "sigma = np.std(best_all)\n",
    "\n",
    "# Get Z score of 1 star reviews\n",
    "z_score = (empirical_mean - mu) /sigma\n",
    "\n",
    "# The actual frequency of appearance \n",
    "print('Frequency of appearance: ', empirical_mean )\n",
    "\n",
    "# The confidence interval for frequency of appearance \n",
    "lower_bound = st.norm.ppf(.025) * sigma + mu\n",
    "upper_bound = st.norm.ppf(.975) * sigma + mu\n",
    "print('Confidence interval for frequency of appearance: ', lower_bound , ' to ', upper_bound )\n",
    "\n",
    "# The statistical significance of frequency of appearance for 1 star reviews \n",
    "print('Statistical significance: ', st.norm.cdf(z_score) )"
   ]
  },
  {
   "cell_type": "code",
   "execution_count": 25,
   "metadata": {},
   "outputs": [
    {
     "name": "stdout",
     "output_type": "stream",
     "text": [
      "Frequency of appearance:  0.289232993948\n",
      "Confidence interval for frequency of appearance:  -0.736809845008  to  1.12308153753\n",
      "Statistical significance:  0.580250917587\n"
     ]
    }
   ],
   "source": [
    "# Compute empirical frequency of appearance for 5 star reviews\n",
    "empirical_mean = np.mean( best_5star )\n",
    "\n",
    "# Compute population mean and standard deviation\n",
    "mu = np.mean(best_all)\n",
    "sigma = np.std(best_all)\n",
    "\n",
    "# Get Z score of 5 star reviews\n",
    "z_score = (empirical_mean - mu) /sigma\n",
    "\n",
    "# The actual frequency of appearance \n",
    "print('Frequency of appearance: ', empirical_mean )\n",
    "\n",
    "# The confidence interval for frequency of appearance \n",
    "lower_bound = st.norm.ppf(.025) * sigma + mu\n",
    "upper_bound = st.norm.ppf(.975) * sigma + mu\n",
    "print('Confidence interval for frequency of appearance: ', lower_bound , ' to ', upper_bound )\n",
    "\n",
    "# The statistical significance of frequency of appearance for 5 star reviews \n",
    "print('Statistical significance: ', st.norm.cdf(z_score) )"
   ]
  },
  {
   "cell_type": "code",
   "execution_count": null,
   "metadata": {
    "collapsed": true
   },
   "outputs": [],
   "source": []
  },
  {
   "cell_type": "code",
   "execution_count": null,
   "metadata": {
    "collapsed": true
   },
   "outputs": [],
   "source": []
  }
 ],
 "metadata": {
  "kernelspec": {
   "display_name": "Python 3",
   "language": "python",
   "name": "python3"
  },
  "language_info": {
   "codemirror_mode": {
    "name": "ipython",
    "version": 3
   },
   "file_extension": ".py",
   "mimetype": "text/x-python",
   "name": "python",
   "nbconvert_exporter": "python",
   "pygments_lexer": "ipython3",
   "version": "3.6.2"
  }
 },
 "nbformat": 4,
 "nbformat_minor": 2
}
