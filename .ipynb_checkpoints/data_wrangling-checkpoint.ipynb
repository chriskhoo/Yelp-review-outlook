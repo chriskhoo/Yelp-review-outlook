{
 "cells": [
  {
   "cell_type": "markdown",
   "metadata": {},
   "source": [
    "# Import dependencies and determine working directory"
   ]
  },
  {
   "cell_type": "code",
   "execution_count": 1,
   "metadata": {
    "collapsed": true
   },
   "outputs": [],
   "source": [
    "# Import libraries\n",
    "import json\n",
    "import os\n",
    "import pandas as pd\n",
    "import matplotlib.pyplot as plt\n",
    "import numpy as np\n",
    "\n",
    "# Import NLP dictionaries\n",
    "import nltk\n",
    "import string\n",
    "from nltk.stem import WordNetLemmatizer\n",
    "from sklearn.feature_extraction.text import CountVectorizer"
   ]
  },
  {
   "cell_type": "code",
   "execution_count": 2,
   "metadata": {
    "collapsed": true
   },
   "outputs": [],
   "source": [
    "# get current directory\n",
    "dir = os.path.dirname(os.path.abspath('__file__'))"
   ]
  },
  {
   "cell_type": "markdown",
   "metadata": {},
   "source": [
    "# Load review data"
   ]
  },
  {
   "cell_type": "code",
   "execution_count": 3,
   "metadata": {
    "collapsed": true,
    "scrolled": false
   },
   "outputs": [],
   "source": [
    "# Load review data \n",
    "# Raw data in the format of {} {} {} seperated by lines\n",
    "\n",
    "# get file path (generalize for different OS) for reviews\n",
    "filename_review = os.path.join(dir, '01_raw_data','review.json')\n",
    "\n",
    "# create a list of reviews\n",
    "with open(filename_review, encoding=\"utf8\", mode='r') as file:\n",
    "    reviews = [json.loads(line) for line in file]\n",
    "\n",
    "# create a pandas data frame from review data \n",
    "reviews_df = pd.DataFrame(reviews)"
   ]
  },
  {
   "cell_type": "markdown",
   "metadata": {},
   "source": [
    "# Load business data"
   ]
  },
  {
   "cell_type": "code",
   "execution_count": 4,
   "metadata": {
    "collapsed": true
   },
   "outputs": [],
   "source": [
    "# Load business data \n",
    "\n",
    "# get file path (generalize for different OS) for reviews\n",
    "filename_business = os.path.join(dir, '01_raw_data','business.json')\n",
    "\n",
    "# create a list of reviews\n",
    "with open(filename_business, encoding=\"utf8\", mode='r') as file:\n",
    "    businesses = [json.loads(line) for line in file]\n",
    "\n",
    "# create a pandas data frame from review data \n",
    "businesses_df = pd.DataFrame(businesses)"
   ]
  },
  {
   "cell_type": "markdown",
   "metadata": {},
   "source": [
    "# Explore review data"
   ]
  },
  {
   "cell_type": "code",
   "execution_count": 5,
   "metadata": {},
   "outputs": [
    {
     "name": "stdout",
     "output_type": "stream",
     "text": [
      "(4736897, 9)\n",
      "<class 'pandas.core.frame.DataFrame'>\n",
      "RangeIndex: 4736897 entries, 0 to 4736896\n",
      "Data columns (total 9 columns):\n",
      "business_id    object\n",
      "cool           int64\n",
      "date           object\n",
      "funny          int64\n",
      "review_id      object\n",
      "stars          int64\n",
      "text           object\n",
      "useful         int64\n",
      "user_id        object\n",
      "dtypes: int64(4), object(5)\n",
      "memory usage: 325.3+ MB\n",
      "None\n",
      "               cool         funny         stars        useful\n",
      "count  4.736897e+06  4.736897e+06  4.736897e+06  4.736897e+06\n",
      "mean   5.096600e-01  4.029171e-01  3.724048e+00  9.882921e-01\n",
      "std    1.960374e+00  1.721954e+00  1.421104e+00  2.600021e+00\n",
      "min    0.000000e+00  0.000000e+00  1.000000e+00  0.000000e+00\n",
      "25%    0.000000e+00  0.000000e+00  3.000000e+00  0.000000e+00\n",
      "50%    0.000000e+00  0.000000e+00  4.000000e+00  0.000000e+00\n",
      "75%    0.000000e+00  0.000000e+00  5.000000e+00  1.000000e+00\n",
      "max    5.130000e+02  6.310000e+02  5.000000e+00  1.125000e+03\n",
      "0\n"
     ]
    }
   ],
   "source": [
    "# review data exploration \n",
    "print(reviews_df.shape )\n",
    "print(reviews_df.info() )\n",
    "print(reviews_df.describe() )\n",
    "\n",
    "# check for null values\n",
    "print( reviews_df.isnull().sum().sum() )"
   ]
  },
  {
   "cell_type": "code",
   "execution_count": 6,
   "metadata": {},
   "outputs": [
    {
     "name": "stdout",
     "output_type": "stream",
     "text": [
      "               business_id  cool        date  funny               review_id  \\\n",
      "0   uYHaNptLzDLoV_JZ_MuzUA     0  2016-07-12      0  VfBHSwC5Vz_pbFluy07i9Q   \n",
      "1   uYHaNptLzDLoV_JZ_MuzUA     0  2016-10-02      0  3zRpneRKDsOPq92tq7ybAA   \n",
      "2   uYHaNptLzDLoV_JZ_MuzUA     0  2015-09-17      0  ne5WhI1jUFOcRn-b-gAzHA   \n",
      "3   uYHaNptLzDLoV_JZ_MuzUA     0  2016-08-21      0  llmdwOgDReucVoWEry61Lw   \n",
      "4   uYHaNptLzDLoV_JZ_MuzUA     0  2013-11-20      0  DuffS87NaSMDmIfluvT83g   \n",
      "5   uYHaNptLzDLoV_JZ_MuzUA     0  2016-06-05      0  GvLmUkjUrOyFH8KFnmT1uw   \n",
      "6   uYHaNptLzDLoV_JZ_MuzUA     0  2015-02-21      0  lGEl24NGj2HVBJrodeXcjg   \n",
      "7   uYHaNptLzDLoV_JZ_MuzUA     0  2013-07-07      0  cUgvEy5wj7zYE68v1BzzVg   \n",
      "8   uYHaNptLzDLoV_JZ_MuzUA     2  2013-04-27      0  FSB_BnvysBgH3JYrbFNcgw   \n",
      "9   uYHaNptLzDLoV_JZ_MuzUA     0  2015-04-13      0  dhl3ZW9aAEX_T7_um5tfaQ   \n",
      "10  uYHaNptLzDLoV_JZ_MuzUA     1  2016-11-08      1  JQJvnM3p-3eML05eKcTgiw   \n",
      "11  uYHaNptLzDLoV_JZ_MuzUA     0  2015-07-27      0  6JF4WfHgwYrrdZ2VeYtnFw   \n",
      "12  uYHaNptLzDLoV_JZ_MuzUA     0  2014-05-07      0  fbVYETRuWDw8QnpimpGMpg   \n",
      "13  uYHaNptLzDLoV_JZ_MuzUA     0  2015-02-26      0  lobj38NgaokqVseN8_nn6g   \n",
      "14  uYHaNptLzDLoV_JZ_MuzUA     1  2015-08-21      0  ysfjtAWreLoy7um8WTb8xA   \n",
      "15  uYHaNptLzDLoV_JZ_MuzUA     0  2013-12-07      0  OF1ToqGAubsWGri5iad15w   \n",
      "16  jQsNFOzDpxPmOurSWCg1vQ     0  2017-06-03      0  ByRzJ8rF2KJWLr-cUNU6EA   \n",
      "17  jQsNFOzDpxPmOurSWCg1vQ     0  2015-03-26      0  i5UwUPlQFPLcE8p2gPFwBw   \n",
      "18  jQsNFOzDpxPmOurSWCg1vQ     1  2012-12-30      1  EyQyvTTg2jX4or9bB8PC9g   \n",
      "19  jQsNFOzDpxPmOurSWCg1vQ     1  2009-01-12      1  G-EFA005besj5uHsH0sQFA   \n",
      "20  jQsNFOzDpxPmOurSWCg1vQ     0  2015-07-11      0  6PcJSGUBSLjt4VLXos5C4A   \n",
      "21  jQsNFOzDpxPmOurSWCg1vQ     0  2015-05-27      0  PFJmyZD_lNBa_Y3kbX1VvA   \n",
      "22  jQsNFOzDpxPmOurSWCg1vQ     1  2015-02-28      1  _Qv1FQUToLrKMuG6pV4Gzw   \n",
      "23  jQsNFOzDpxPmOurSWCg1vQ     0  2010-04-05      0  s2mlqrFNaPEGtcnEu3EJ4Q   \n",
      "24  jQsNFOzDpxPmOurSWCg1vQ     0  2015-05-22      0  oiSzZRrbi3y01_wqU528ZQ   \n",
      "25  jQsNFOzDpxPmOurSWCg1vQ     0  2011-06-15      0  4BPjRE9VI0HhyZzyyYv0BQ   \n",
      "26  jQsNFOzDpxPmOurSWCg1vQ     0  2017-03-12      0  kznHtw1Qido_9GX6sDQPJw   \n",
      "27  jQsNFOzDpxPmOurSWCg1vQ     1  2016-12-19      0  HWRTVn3Lc-RwN6udv4WJzQ   \n",
      "28  jQsNFOzDpxPmOurSWCg1vQ     0  2011-08-10      0  GiEB_A-m9HuX521WQNbL8w   \n",
      "29  jQsNFOzDpxPmOurSWCg1vQ     0  2013-06-17      0  GKi4i6qocIgaYcwv1_0zzQ   \n",
      "30  jQsNFOzDpxPmOurSWCg1vQ     0  2015-11-03      0  OrhWg2MmCznwfKfjHKvuhA   \n",
      "31  jQsNFOzDpxPmOurSWCg1vQ     0  2017-07-08      0  QXWku_OB3FCj9VCZfUZwwg   \n",
      "32  jQsNFOzDpxPmOurSWCg1vQ     0  2015-09-22      0  5NtaW5EwXK595kP4Ynnisg   \n",
      "33  jQsNFOzDpxPmOurSWCg1vQ     0  2012-10-08      0  ai6O4UqqDqnjO7gfz6jBkA   \n",
      "34  jQsNFOzDpxPmOurSWCg1vQ     0  2015-12-28      0  ZrvsD7PSyPolII3gp4-uHw   \n",
      "35  jQsNFOzDpxPmOurSWCg1vQ     0  2009-11-18      0  p7OqbXTjwmIN_XYohB6TFw   \n",
      "36  jQsNFOzDpxPmOurSWCg1vQ     2  2012-07-29      2  ukpjwnetF5wGhGrSXmPRwA   \n",
      "37  jQsNFOzDpxPmOurSWCg1vQ     0  2016-06-19      0  mT6U5lujK_zIcIqux92seA   \n",
      "38  jQsNFOzDpxPmOurSWCg1vQ     0  2012-08-23      0  YxAxExTdWtdMhEb14RGFRg   \n",
      "39  jQsNFOzDpxPmOurSWCg1vQ     1  2009-06-25      1  ue6ts-gA9khywe76lEL1Kg   \n",
      "40  jQsNFOzDpxPmOurSWCg1vQ     0  2008-10-06      0  WsTYqsyNyUd7xpwFrgwI0g   \n",
      "41  jQsNFOzDpxPmOurSWCg1vQ     1  2015-03-17      1  g9yv-M3kvOQFPyJHCjUrdg   \n",
      "42  jQsNFOzDpxPmOurSWCg1vQ     0  2014-04-22      0  fk8OI26dAhQfot46T_SXWg   \n",
      "43  jQsNFOzDpxPmOurSWCg1vQ     0  2016-05-07      0  ld06EwR5YyutWxud9ude0Q   \n",
      "44  jQsNFOzDpxPmOurSWCg1vQ     1  2014-05-03      0  CxVx2FD73kw--RuzXL_RVA   \n",
      "45  jQsNFOzDpxPmOurSWCg1vQ     1  2014-05-29      1  jJaU6pbKkYgl15P-5zfg3A   \n",
      "46  jQsNFOzDpxPmOurSWCg1vQ     0  2009-12-10      0  7M2GCeIba1uTJMJbVO7TKw   \n",
      "47  jQsNFOzDpxPmOurSWCg1vQ     0  2014-10-01      0  pxs5biP-IzmjXZpoh-iVHg   \n",
      "48  jQsNFOzDpxPmOurSWCg1vQ     0  2015-07-13      0  DW0B2tlav4Z7T1DTzAL7kQ   \n",
      "49  jQsNFOzDpxPmOurSWCg1vQ     0  2016-02-14      0  nI2rhDM2CgNazMdhiODoRQ   \n",
      "\n",
      "    stars                                               text  useful  \\\n",
      "0       5  My girlfriend and I stayed here for 3 nights a...       0   \n",
      "1       3  If you need an inexpensive place to stay for a...       0   \n",
      "2       3  Mittlerweile gibt es in Edinburgh zwei Ableger...       0   \n",
      "3       4  Location is everything and this hotel has it! ...       0   \n",
      "4       5  gute lage im stadtzentrum. shoppingmeile und s...       0   \n",
      "5       5  Erstklassige Lage. Dazu ist alles geschrieben ...       0   \n",
      "6       4  Beautiful space, great location, staff rock. T...       0   \n",
      "7       4  This is a fairly new property I think. It is a...       0   \n",
      "8       4  First time at this group of hotels. Pretty new...       2   \n",
      "9       4  Location location location! \\n\\nMotel One is j...       2   \n",
      "10      4  A hotel that has all the basics that you'd nee...       1   \n",
      "11      3  Stayed here for two nights, costs was £109 per...       1   \n",
      "12      4  Well, i like the idea of Motel One. Always in ...       1   \n",
      "13      4  I really do love the Germans. This chain is sp...       1   \n",
      "14      5  Motel One sets the standard for budget hotels....       1   \n",
      "15      3  Had Continental style breakfast here a short d...       1   \n",
      "16      1  This place is horrible, we were so excited to ...       0   \n",
      "17      4  For being fairly \"fast\" food.. Pei Wei (pronou...       1   \n",
      "18      5  I decided to try it out, I'm celiac and theref...       2   \n",
      "19      3  I'm not saying Pei Wei is the best asian food ...       1   \n",
      "20      3  Sometimes the food is spot on and delicious an...       0   \n",
      "21      1  Decent customer service but the food was awful...       0   \n",
      "22      5  Super clean restaurant and friendly staff. FRE...       1   \n",
      "23      4  Found this the other night.  It is the PF Chan...       0   \n",
      "24      1  The staff here is great and they're nice,  won...       0   \n",
      "25      2  I had the garlic ginger broccoli chicken and i...       1   \n",
      "26      5  This review is based upon consistency of flavo...       0   \n",
      "27      5  I love this place i'd recommend it to anyone !...       1   \n",
      "28      4  1st! Place is not closed. There was an issue w...       1   \n",
      "29      2  Definitely not a fan. Coming from Orange Count...       0   \n",
      "30      3  Pretty good, not great. Definitely overpriced....       0   \n",
      "31      1  I wish I could give 1.5 stars. Nothing special...       0   \n",
      "32      2  Disappointed that on yelp their hours show the...       1   \n",
      "33      3  1st visit had the lo mein...delish!  \\n2nd vis...       0   \n",
      "34      5  As a vegetarian, it can difficult to find plac...       0   \n",
      "35      2  Typical big business chinese place. Slightly f...       0   \n",
      "36      4  I love Pei Wei since it's just a bit more affo...       1   \n",
      "37      4  Great fresh food and clean restaurant. Friendl...       1   \n",
      "38      3  This is pretty good. My wife and I usually spl...       0   \n",
      "39      4  Food is good and consistent and the service is...       2   \n",
      "40      4  The hubs and I dined at the Glendale location ...       0   \n",
      "41      3  Very clean and staff is always friendly. I usu...       2   \n",
      "42      1  If I could give no stars I would. My family pl...       0   \n",
      "43      5  I went to Surprise Pei Wei Restuarant tonight ...       0   \n",
      "44      4  I like Pei Wei overall and enjoy their varied ...       1   \n",
      "45      3  Everything was good except Thai chicken wraps....       0   \n",
      "46      1  I really don't understand how anyone can eat t...       1   \n",
      "47      2  Went in for lunch with a coworker today. The s...       0   \n",
      "48      5  The food is great and customer service is the ...       1   \n",
      "49      2  OH MY GOD, this place. I used to like Pei Wei ...       0   \n",
      "\n",
      "                   user_id  \n",
      "0   cjpdDjZyprfyDG3RlkVG3w  \n",
      "1   bjTcT8Ty4cJZhEOEo01FGA  \n",
      "2   AXgRULmWcME7J6Ix3I--ww  \n",
      "3   oU2SSOmsp_A8JYI7Z2JJ5w  \n",
      "4   0xtbPEna2Kei11vsU-U2Mw  \n",
      "5   rW8q706dz5-NnXDzMwVkiw  \n",
      "6   yx8vNXUL0D0HS8rUIC7AFA  \n",
      "7   zXnH6W74FAJQ7q7b-NuBsA  \n",
      "8   c5yp5hxwC1N98MjbV2LyWQ  \n",
      "9   xJisL5w4wOgiYLokGMT_IA  \n",
      "10  tgV6tsYQ66DZ3LQKvtC6cw  \n",
      "11  Q-3YCVywc03w56wYtGlKvg  \n",
      "12  Cx4UCow0zQgFQOp47RRRaA  \n",
      "13  eqWEgMH-DCP74i82BEAZzw  \n",
      "14  d0DGZRp6lHXGECJSc_nn-A  \n",
      "15  IpLZ7RevQrFPJWYc9Gxymg  \n",
      "16  kzyLOqiJvyw_FWFTw2rjiQ  \n",
      "17  WZXp9-V2dqRRJqhGgRqueA  \n",
      "18  XylT12exfdLiI_3uDLVIpw  \n",
      "19  Ji9PeffxjwqPLO7pEfSpKQ  \n",
      "20  TLIWzAJPrET0zX4_vgvLhg  \n",
      "21  JZEiTNWBwmv6MOOXYCAaMQ  \n",
      "22  E56sVQT5-OWfSejJrma8_w  \n",
      "23  4WYICo4emecA9r7sPYQkBw  \n",
      "24  P8mVj7AZwJTFFH5FXbbmUg  \n",
      "25  7Y4NEBQqWg7j-TvrQi6UZQ  \n",
      "26  vgZqQqe8cj6SBMH0EqDliw  \n",
      "27  O7G_c6wFXSygr82qs0GAcA  \n",
      "28  UG4EKu13JRwzRix6ESINdg  \n",
      "29  ZZG6yR27lIy3xwUYVgHO7w  \n",
      "30  1YorWW0Z-YDuYC5GplNabw  \n",
      "31  ujOPJEz_KxzAyZDnji-2Ng  \n",
      "32  6aEUn50d3Ts7MiGu6WdpKA  \n",
      "33  R6vb0FtmClhfwajs_AuusQ  \n",
      "34  CPuUagT2rfUJm6hRgxn3JQ  \n",
      "35  OYRBjBWy1uOm12N3cokS_Q  \n",
      "36  PKZLwAGgBtQCjJtGhyPETA  \n",
      "37  9bJ6j0zrV1XSiSnzQWM5Tw  \n",
      "38  8nCmV4RMwf4GpaN-A_2Tfw  \n",
      "39  tbAQMMVlhxvXhe6KifrZ-A  \n",
      "40  1s0Q1KwGpJIKvD-SRSpwjw  \n",
      "41  -0kiduTUToVYFqN_NEqMSw  \n",
      "42  KrQ_dWOBn2voaQLNv7hj8A  \n",
      "43  2L_1kyJDOkEaPDiBRohx9w  \n",
      "44  xlkjaJUu2fVojeaaVgQPOw  \n",
      "45  alTlRb9qMBX11pARX05Big  \n",
      "46  e--whH51bx5mDaMo3aJ-hg  \n",
      "47  Ns0hZ0xDOuVRMpHk0Q-5Yw  \n",
      "48  SM20gx7YH0GtI5JOXhfXdg  \n",
      "49  R-kL1bocHgP4GW7Mgd-ZXA  \n"
     ]
    }
   ],
   "source": [
    "# check output of first 50 \n",
    "print(reviews_df.head(50) )\n",
    "\n",
    "# outcome: some reviews look like accommodation and other non-restaurant business (e.g. first 15) \n",
    "# and some reviews are in a different language (e.g. index 4 and 5) and "
   ]
  },
  {
   "cell_type": "markdown",
   "metadata": {},
   "source": [
    "# Explore business data"
   ]
  },
  {
   "cell_type": "code",
   "execution_count": 7,
   "metadata": {},
   "outputs": [
    {
     "name": "stdout",
     "output_type": "stream",
     "text": [
      "(156639, 15)\n",
      "<class 'pandas.core.frame.DataFrame'>\n",
      "RangeIndex: 156639 entries, 0 to 156638\n",
      "Data columns (total 15 columns):\n",
      "address         156639 non-null object\n",
      "attributes      156639 non-null object\n",
      "business_id     156639 non-null object\n",
      "categories      156639 non-null object\n",
      "city            156639 non-null object\n",
      "hours           156639 non-null object\n",
      "is_open         156639 non-null int64\n",
      "latitude        156638 non-null float64\n",
      "longitude       156638 non-null float64\n",
      "name            156639 non-null object\n",
      "neighborhood    156639 non-null object\n",
      "postal_code     156639 non-null object\n",
      "review_count    156639 non-null int64\n",
      "stars           156639 non-null float64\n",
      "state           156639 non-null object\n",
      "dtypes: float64(3), int64(2), object(10)\n",
      "memory usage: 17.9+ MB\n",
      "None\n",
      "             is_open       latitude      longitude   review_count  \\\n",
      "count  156639.000000  156638.000000  156638.000000  156639.000000   \n",
      "mean        0.844375      38.585033     -92.856485      30.238159   \n",
      "std         0.362501       5.399871      26.557741      96.486631   \n",
      "min         0.000000     -36.086009    -142.466650       3.000000   \n",
      "25%         1.000000      33.627161    -112.138207       4.000000   \n",
      "50%         1.000000      36.142381     -89.523198       9.000000   \n",
      "75%         1.000000      43.596845     -79.668760      23.000000   \n",
      "max         1.000000      89.999314     115.086769    6979.000000   \n",
      "\n",
      "               stars  \n",
      "count  156639.000000  \n",
      "mean        3.647154  \n",
      "std         0.977640  \n",
      "min         1.000000  \n",
      "25%         3.000000  \n",
      "50%         3.500000  \n",
      "75%         4.500000  \n",
      "max         5.000000  \n",
      "2\n",
      "                               address  \\\n",
      "0                      691 Richmond Rd   \n",
      "1                       2824 Milton Rd   \n",
      "2                  337 Danforth Avenue   \n",
      "3  7702 E Doubletree Ranch Rd, Ste 300   \n",
      "4                       4719 N 20Th St   \n",
      "\n",
      "                                          attributes             business_id  \\\n",
      "0  {'RestaurantsPriceRange2': 2, 'BusinessParking...  YDf95gJZaq05wvo7hTQbbQ   \n",
      "1  {'GoodForMeal': {'dessert': False, 'latenight'...  mLwM-h2YhXl2NCgdS84_Bw   \n",
      "2  {'BusinessParking': {'garage': False, 'street'...  v2WhjAB3PIBA8J8VxG3wEg   \n",
      "3                                                 {}  CVtCbSB1zUcUWg-9TNGTuQ   \n",
      "4  {'RestaurantsTableService': False, 'GoodForMea...  duHFBe87uNSXImQmvBh87Q   \n",
      "\n",
      "                                          categories              city  \\\n",
      "0                       [Shopping, Shopping Centers]  Richmond Heights   \n",
      "1  [Food, Soul Food, Convenience Stores, Restaura...         Charlotte   \n",
      "2                               [Food, Coffee & Tea]           Toronto   \n",
      "3               [Professional Services, Matchmakers]        Scottsdale   \n",
      "4                          [Sandwiches, Restaurants]           Phoenix   \n",
      "\n",
      "                                               hours  is_open   latitude  \\\n",
      "0  {'Monday': '10:00-21:00', 'Tuesday': '10:00-21...        1  41.541716   \n",
      "1  {'Monday': '10:00-22:00', 'Tuesday': '10:00-22...        0  35.236870   \n",
      "2  {'Monday': '10:00-19:00', 'Tuesday': '10:00-19...        0  43.677126   \n",
      "3  {'Friday': '9:00-17:00', 'Tuesday': '9:00-17:0...        1  33.565082   \n",
      "4                                                 {}        0  33.505928   \n",
      "\n",
      "    longitude                                name neighborhood postal_code  \\\n",
      "0  -81.493116                Richmond Town Square                    44143   \n",
      "1  -80.741976  South Florida Style Chicken & Ribs     Eastland       28215   \n",
      "2  -79.353285                    The Tea Emporium    Riverdale     M4K 1N7   \n",
      "3 -111.916400                            TRUmatch                    85258   \n",
      "4 -112.038847                             Blimpie                    85016   \n",
      "\n",
      "   review_count  stars state  \n",
      "0            17    2.0    OH  \n",
      "1             4    4.5    NC  \n",
      "2             7    4.5    ON  \n",
      "3             3    3.0    AZ  \n",
      "4            10    4.5    AZ  \n"
     ]
    }
   ],
   "source": [
    "# business data exploration \n",
    "print(businesses_df.shape )\n",
    "print(businesses_df.info() )\n",
    "print(businesses_df.describe() )\n",
    "\n",
    "# check for null values\n",
    "print( businesses_df.isnull().sum().sum() )\n",
    "# outcome: 2 null values - one in lat, the other in long \n",
    "\n",
    "# check output\n",
    "print(businesses_df.head() )"
   ]
  },
  {
   "cell_type": "code",
   "execution_count": 8,
   "metadata": {},
   "outputs": [
    {
     "name": "stdout",
     "output_type": "stream",
     "text": [
      "['OH' 'NC' 'ON' 'AZ' 'PA' 'NV' 'EDH' 'QC' 'WI' 'IL' 'BW' 'HLD' 'SC' 'ESX'\n",
      " 'MLN' 'FIF' 'NYK' 'NI' 'ELN' 'WLN' '01' 'C' 'NY' 'SCB' 'AL' 'BY' 'RCC'\n",
      " 'ST' 'NTH' 'NLK' '75' 'PKN' 'HH' 'TAM' 'CA' 'KHL' 'VT' 'ABE' 'SL' 'DE'\n",
      " 'GLG' 'STG' 'ZET' 'XGL' 'WA' 'FLN' 'WHT' 'NE' 'FAL' '3' 'FL']\n",
      "count    156638.000000\n",
      "mean         38.585033\n",
      "std           5.399871\n",
      "min         -36.086009\n",
      "25%          33.627161\n",
      "50%          36.142381\n",
      "75%          43.596845\n",
      "max          89.999314\n",
      "Name: latitude, dtype: float64\n",
      "count    156638.000000\n",
      "mean        -92.856485\n",
      "std          26.557741\n",
      "min        -142.466650\n",
      "25%        -112.138207\n",
      "50%         -89.523198\n",
      "75%         -79.668760\n",
      "max         115.086769\n",
      "Name: longitude, dtype: float64\n"
     ]
    }
   ],
   "source": [
    "# Check if the businesses are located in the USA \n",
    "\n",
    "# Check if all the states are in the USA\n",
    "print( businesses_df['state'].unique() )\n",
    "\n",
    "# Check the lat long of the locations \n",
    "print(businesses_df['latitude'].describe() )\n",
    "print(businesses_df['longitude'].describe() )\n",
    "\n",
    "# Outcome: there appears to be non US states as well as lat long\n",
    "# bounding box for the US is (49.3457868 # north lat) (24.7433195 # south lat) (-124.7844079 # west long) (-66.9513812 # east long)\n",
    "# source: http://en.wikipedia.org/wiki/Extreme_points_of_the_United_States#Westernmost"
   ]
  },
  {
   "cell_type": "markdown",
   "metadata": {},
   "source": [
    "# Clean review data"
   ]
  },
  {
   "cell_type": "code",
   "execution_count": 9,
   "metadata": {
    "collapsed": true
   },
   "outputs": [],
   "source": [
    "# convert date to a datetime - note stars will be kept as an integer vs category\n",
    "reviews_df['date'] = pd.to_datetime(reviews_df['date'], format='%Y-%m-%d')"
   ]
  },
  {
   "cell_type": "markdown",
   "metadata": {},
   "source": [
    "# Clean business data "
   ]
  },
  {
   "cell_type": "code",
   "execution_count": 10,
   "metadata": {},
   "outputs": [
    {
     "name": "stdout",
     "output_type": "stream",
     "text": [
      "(51613, 15)\n"
     ]
    }
   ],
   "source": [
    "# Extract restaurants \n",
    "restaurants_df = businesses_df[ businesses_df['categories'].apply(lambda categories: any(pd.Series(categories).str.contains('Restaurants')) if len(categories)>0 else False)]\n",
    "print( restaurants_df.shape )"
   ]
  },
  {
   "cell_type": "code",
   "execution_count": 11,
   "metadata": {
    "collapsed": true
   },
   "outputs": [],
   "source": [
    "# Restrict restaurants to the USA using a bounding box \n",
    "restaurants_df = restaurants_df[ (restaurants_df['latitude'] >= 24.7433195) & (restaurants_df['latitude'] <= 49.3457868) & (restaurants_df['longitude'] >= -124.7844079) & (restaurants_df['longitude'] <= -66.9513812)]"
   ]
  },
  {
   "cell_type": "code",
   "execution_count": 12,
   "metadata": {},
   "outputs": [
    {
     "name": "stdout",
     "output_type": "stream",
     "text": [
      "['NC' 'AZ' 'PA' 'ON' 'WI' 'QC' 'IL' 'NV' 'OH' 'SC' 'NY' 'WA']\n",
      "count    48172.000000\n",
      "mean        39.444061\n",
      "std          4.434200\n",
      "min         33.137277\n",
      "25%         35.212550\n",
      "50%         40.464975\n",
      "75%         43.664307\n",
      "max         48.343443\n",
      "Name: latitude, dtype: float64\n",
      "count    48172.000000\n",
      "mean       -91.667579\n",
      "std         16.300928\n",
      "min       -119.551325\n",
      "25%       -111.975926\n",
      "50%        -80.979222\n",
      "75%        -79.419779\n",
      "max        -70.879166\n",
      "Name: longitude, dtype: float64\n",
      "(48172, 15)\n"
     ]
    }
   ],
   "source": [
    "# Check if the businesses are located in the USA \n",
    "\n",
    "# Check if all the states are in the USA\n",
    "print( restaurants_df['state'].unique() )\n",
    "\n",
    "# Check the lat long of the locations \n",
    "print(restaurants_df['latitude'].describe() )\n",
    "print(restaurants_df['longitude'].describe() )\n",
    "\n",
    "# Check to see if a significant proportion of the data set was dropped \n",
    "print( restaurants_df.shape )\n",
    "\n",
    "# outcome: states now limited to those in the USA and lat longs in the expected range of values - 51 613 to 48 172 observations"
   ]
  },
  {
   "cell_type": "code",
   "execution_count": 13,
   "metadata": {
    "collapsed": true
   },
   "outputs": [],
   "source": [
    "# drop columns - address, city, hours, is_open, neighborhood, postal_code, state, latitude, longitude\n",
    "dropped_columns = ['address','city','hours', 'is_open','neighborhood','postal_code', 'state', 'latitude', 'longitude']\n",
    "for column in dropped_columns:\n",
    "    del restaurants_df[column]"
   ]
  },
  {
   "cell_type": "markdown",
   "metadata": {},
   "source": [
    "# Merge review data with restaurant's data "
   ]
  },
  {
   "cell_type": "code",
   "execution_count": 14,
   "metadata": {
    "collapsed": true
   },
   "outputs": [],
   "source": [
    "# Merge both data frames\n",
    "joint_df = pd.merge(reviews_df, restaurants_df, on='business_id', suffixes=['_review', '_business'])"
   ]
  },
  {
   "cell_type": "markdown",
   "metadata": {},
   "source": [
    "# Explore merged data set"
   ]
  },
  {
   "cell_type": "code",
   "execution_count": 15,
   "metadata": {},
   "outputs": [
    {
     "name": "stdout",
     "output_type": "stream",
     "text": [
      "(2876509, 14)\n",
      "<class 'pandas.core.frame.DataFrame'>\n",
      "Int64Index: 2876509 entries, 0 to 2876508\n",
      "Data columns (total 14 columns):\n",
      "business_id       object\n",
      "cool              int64\n",
      "date              datetime64[ns]\n",
      "funny             int64\n",
      "review_id         object\n",
      "stars_review      int64\n",
      "text              object\n",
      "useful            int64\n",
      "user_id           object\n",
      "attributes        object\n",
      "categories        object\n",
      "name              object\n",
      "review_count      int64\n",
      "stars_business    float64\n",
      "dtypes: datetime64[ns](1), float64(1), int64(5), object(7)\n",
      "memory usage: 329.2+ MB\n",
      "None\n"
     ]
    }
   ],
   "source": [
    "print( joint_df.shape )\n",
    "print( joint_df.info() )\n",
    "\n",
    "# outcome: no missing values\n",
    "# Inner join reduced the total number of reviews from 4 736 897 to the 2 927 731 from restaurants to the 2 876 509 from restaurants in the USA bounding box "
   ]
  },
  {
   "cell_type": "code",
   "execution_count": 16,
   "metadata": {},
   "outputs": [
    {
     "data": {
      "image/png": "[encoded data removed]",
      "text/plain": [
       "<matplotlib.figure.Figure at 0x10c092b38>"
      ]
     },
     "metadata": {},
     "output_type": "display_data"
    }
   ],
   "source": [
    "# bar char of review stars \n",
    "review_stars = joint_df['stars_review'].value_counts()\n",
    "review_stars.plot(kind='bar')\n",
    "plt.show()"
   ]
  },
  {
   "cell_type": "markdown",
   "metadata": {},
   "source": [
    "# Pre-process review text"
   ]
  },
  {
   "cell_type": "markdown",
   "metadata": {},
   "source": [
    "## Get stop words and lemmatizing function"
   ]
  },
  {
   "cell_type": "code",
   "execution_count": 17,
   "metadata": {},
   "outputs": [
    {
     "name": "stdout",
     "output_type": "stream",
     "text": [
      "[nltk_data] Downloading package stopwords to\n",
      "[nltk_data]     /Users/chriskhoo/nltk_data...\n",
      "[nltk_data]   Package stopwords is already up-to-date!\n",
      "[nltk_data] Downloading package wordnet to\n",
      "[nltk_data]     /Users/chriskhoo/nltk_data...\n",
      "[nltk_data]   Package wordnet is already up-to-date!\n"
     ]
    }
   ],
   "source": [
    "# Get stop words \n",
    "nltk.download('stopwords')\n",
    "from nltk.corpus import stopwords\n",
    "stopWords = set(stopwords.words('english'))\n",
    "\n",
    "# Include puncutation into stop words \n",
    "stop_words_punc = stopWords.union(string.punctuation )\n",
    "\n",
    "# Get lemmatizer\n",
    "nltk.download('wordnet')\n",
    "lemmatizer = WordNetLemmatizer()\n",
    "\n",
    "# import tokenizer\n",
    "from nltk.tokenize import wordpunct_tokenize"
   ]
  },
  {
   "cell_type": "markdown",
   "metadata": {},
   "source": [
    "## Define a function that cleans a single review"
   ]
  },
  {
   "cell_type": "code",
   "execution_count": 18,
   "metadata": {},
   "outputs": [
    {
     "name": "stdout",
     "output_type": "stream",
     "text": [
      "['hey', 'test', 'sample', 'review', '...;', 'punctuation', 'upper', 'case', 'letter', 'walk', 'walking', 'walk', 'cat', 'cactus', 'lemmatizing']\n"
     ]
    }
   ],
   "source": [
    "# references: https://www.kaggle.com/c/word2vec-nlp-tutorial#part-1-for-beginners-bag-of-words \n",
    "# https://radimrehurek.com/data_science_python/\n",
    "# http://textminingonline.com/dive-into-nltk-part-iv-stemming-and-lemmatization\n",
    "# https://stackoverflow.com/questions/19130512/stopword-removal-with-nltk\n",
    "# https://stackoverflow.com/questions/46203023/how-can-i-make-my-python-nltk-pre-processing-code-more-efficient\n",
    "\n",
    "def pre_process_review( review_text ):\n",
    "    # Convert all text to lower case, tokenize into list of strings, remove punctuation and stop words, and lemmatize\n",
    "    return [lemmatizer.lemmatize(word) for word in wordpunct_tokenize(review_text.lower()) if not word in stop_words_punc]\n",
    "\n",
    "# Test pre_process_review function \n",
    "print( pre_process_review(\"Hey you! Test this sample review, with this: and this ...; and other punctuations and UPPER case letters! And walk, walking, walks, cats and cacti for lemmatizing.\") )"
   ]
  },
  {
   "cell_type": "markdown",
   "metadata": {},
   "source": [
    "\n",
    "## Apply pre-processing to all review text"
   ]
  },
  {
   "cell_type": "code",
   "execution_count": 19,
   "metadata": {},
   "outputs": [
    {
     "data": {
      "text/plain": [
       "0     [place, horrible, excited, try, since, got, gi...\n",
       "1     [fairly, fast, food, .., pei, wei, pronounced,...\n",
       "2     [decided, try, celiac, therefore, eat, gluten,...\n",
       "3     [saying, pei, wei, best, asian, food, ever, ta...\n",
       "4     [sometimes, food, spot, delicious, time, quite...\n",
       "5     [decent, customer, service, food, awful, cold,...\n",
       "6     [super, clean, restaurant, friendly, staff, fr...\n",
       "7     [found, night, pf, chang, fast, food, option, ...\n",
       "8     [staff, great, nice, wonderful, quick, people,...\n",
       "9     [garlic, ginger, broccoli, chicken, good, broc...\n",
       "10    [review, based, upon, consistency, flavor, gre...\n",
       "11    [love, place, recommend, anyone, always, order...\n",
       "12    [1st, place, closed, issue, legal, worker, fra...\n",
       "13    [definitely, fan, coming, orange, county, ca, ...\n",
       "14    [pretty, good, great, definitely, overpriced, ...\n",
       "15    [wish, could, give, 1, 5, star, nothing, speci...\n",
       "16    [disappointed, yelp, hour, show, open, 1030am,...\n",
       "17    [1st, visit, lo, mein, ..., delish, 2nd, visit...\n",
       "18    [vegetarian, difficult, find, place, good, opt...\n",
       "19    [typical, big, business, chinese, place, sligh...\n",
       "Name: processed_review, dtype: object"
      ]
     },
     "execution_count": 19,
     "metadata": {},
     "output_type": "execute_result"
    }
   ],
   "source": [
    "# Apply pre processing to review text and store result in a new column\n",
    "joint_df['processed_review'] = joint_df['text'].apply(lambda review_text: pre_process_review( review_text ))\n",
    "\n",
    "# Check output\n",
    "joint_df['processed_review'].head(20)"
   ]
  },
  {
   "cell_type": "code",
   "execution_count": 20,
   "metadata": {},
   "outputs": [
    {
     "name": "stdout",
     "output_type": "stream",
     "text": [
      "               business_id  cool       date  funny               review_id  \\\n",
      "0   jQsNFOzDpxPmOurSWCg1vQ     0 2017-06-03      0  ByRzJ8rF2KJWLr-cUNU6EA   \n",
      "1   jQsNFOzDpxPmOurSWCg1vQ     0 2015-03-26      0  i5UwUPlQFPLcE8p2gPFwBw   \n",
      "2   jQsNFOzDpxPmOurSWCg1vQ     1 2012-12-30      1  EyQyvTTg2jX4or9bB8PC9g   \n",
      "3   jQsNFOzDpxPmOurSWCg1vQ     1 2009-01-12      1  G-EFA005besj5uHsH0sQFA   \n",
      "4   jQsNFOzDpxPmOurSWCg1vQ     0 2015-07-11      0  6PcJSGUBSLjt4VLXos5C4A   \n",
      "5   jQsNFOzDpxPmOurSWCg1vQ     0 2015-05-27      0  PFJmyZD_lNBa_Y3kbX1VvA   \n",
      "6   jQsNFOzDpxPmOurSWCg1vQ     1 2015-02-28      1  _Qv1FQUToLrKMuG6pV4Gzw   \n",
      "7   jQsNFOzDpxPmOurSWCg1vQ     0 2010-04-05      0  s2mlqrFNaPEGtcnEu3EJ4Q   \n",
      "8   jQsNFOzDpxPmOurSWCg1vQ     0 2015-05-22      0  oiSzZRrbi3y01_wqU528ZQ   \n",
      "9   jQsNFOzDpxPmOurSWCg1vQ     0 2011-06-15      0  4BPjRE9VI0HhyZzyyYv0BQ   \n",
      "10  jQsNFOzDpxPmOurSWCg1vQ     0 2017-03-12      0  kznHtw1Qido_9GX6sDQPJw   \n",
      "11  jQsNFOzDpxPmOurSWCg1vQ     1 2016-12-19      0  HWRTVn3Lc-RwN6udv4WJzQ   \n",
      "12  jQsNFOzDpxPmOurSWCg1vQ     0 2011-08-10      0  GiEB_A-m9HuX521WQNbL8w   \n",
      "13  jQsNFOzDpxPmOurSWCg1vQ     0 2013-06-17      0  GKi4i6qocIgaYcwv1_0zzQ   \n",
      "14  jQsNFOzDpxPmOurSWCg1vQ     0 2015-11-03      0  OrhWg2MmCznwfKfjHKvuhA   \n",
      "15  jQsNFOzDpxPmOurSWCg1vQ     0 2017-07-08      0  QXWku_OB3FCj9VCZfUZwwg   \n",
      "16  jQsNFOzDpxPmOurSWCg1vQ     0 2015-09-22      0  5NtaW5EwXK595kP4Ynnisg   \n",
      "17  jQsNFOzDpxPmOurSWCg1vQ     0 2012-10-08      0  ai6O4UqqDqnjO7gfz6jBkA   \n",
      "18  jQsNFOzDpxPmOurSWCg1vQ     0 2015-12-28      0  ZrvsD7PSyPolII3gp4-uHw   \n",
      "19  jQsNFOzDpxPmOurSWCg1vQ     0 2009-11-18      0  p7OqbXTjwmIN_XYohB6TFw   \n",
      "\n",
      "    stars_review                                               text  useful  \\\n",
      "0              1  This place is horrible, we were so excited to ...       0   \n",
      "1              4  For being fairly \"fast\" food.. Pei Wei (pronou...       1   \n",
      "2              5  I decided to try it out, I'm celiac and theref...       2   \n",
      "3              3  I'm not saying Pei Wei is the best asian food ...       1   \n",
      "4              3  Sometimes the food is spot on and delicious an...       0   \n",
      "5              1  Decent customer service but the food was awful...       0   \n",
      "6              5  Super clean restaurant and friendly staff. FRE...       1   \n",
      "7              4  Found this the other night.  It is the PF Chan...       0   \n",
      "8              1  The staff here is great and they're nice,  won...       0   \n",
      "9              2  I had the garlic ginger broccoli chicken and i...       1   \n",
      "10             5  This review is based upon consistency of flavo...       0   \n",
      "11             5  I love this place i'd recommend it to anyone !...       1   \n",
      "12             4  1st! Place is not closed. There was an issue w...       1   \n",
      "13             2  Definitely not a fan. Coming from Orange Count...       0   \n",
      "14             3  Pretty good, not great. Definitely overpriced....       0   \n",
      "15             1  I wish I could give 1.5 stars. Nothing special...       0   \n",
      "16             2  Disappointed that on yelp their hours show the...       1   \n",
      "17             3  1st visit had the lo mein...delish!  \\n2nd vis...       0   \n",
      "18             5  As a vegetarian, it can difficult to find plac...       0   \n",
      "19             2  Typical big business chinese place. Slightly f...       0   \n",
      "\n",
      "                   user_id                                         attributes  \\\n",
      "0   kzyLOqiJvyw_FWFTw2rjiQ  {'RestaurantsTableService': False, 'GoodForMea...   \n",
      "1   WZXp9-V2dqRRJqhGgRqueA  {'RestaurantsTableService': False, 'GoodForMea...   \n",
      "2   XylT12exfdLiI_3uDLVIpw  {'RestaurantsTableService': False, 'GoodForMea...   \n",
      "3   Ji9PeffxjwqPLO7pEfSpKQ  {'RestaurantsTableService': False, 'GoodForMea...   \n",
      "4   TLIWzAJPrET0zX4_vgvLhg  {'RestaurantsTableService': False, 'GoodForMea...   \n",
      "5   JZEiTNWBwmv6MOOXYCAaMQ  {'RestaurantsTableService': False, 'GoodForMea...   \n",
      "6   E56sVQT5-OWfSejJrma8_w  {'RestaurantsTableService': False, 'GoodForMea...   \n",
      "7   4WYICo4emecA9r7sPYQkBw  {'RestaurantsTableService': False, 'GoodForMea...   \n",
      "8   P8mVj7AZwJTFFH5FXbbmUg  {'RestaurantsTableService': False, 'GoodForMea...   \n",
      "9   7Y4NEBQqWg7j-TvrQi6UZQ  {'RestaurantsTableService': False, 'GoodForMea...   \n",
      "10  vgZqQqe8cj6SBMH0EqDliw  {'RestaurantsTableService': False, 'GoodForMea...   \n",
      "11  O7G_c6wFXSygr82qs0GAcA  {'RestaurantsTableService': False, 'GoodForMea...   \n",
      "12  UG4EKu13JRwzRix6ESINdg  {'RestaurantsTableService': False, 'GoodForMea...   \n",
      "13  ZZG6yR27lIy3xwUYVgHO7w  {'RestaurantsTableService': False, 'GoodForMea...   \n",
      "14  1YorWW0Z-YDuYC5GplNabw  {'RestaurantsTableService': False, 'GoodForMea...   \n",
      "15  ujOPJEz_KxzAyZDnji-2Ng  {'RestaurantsTableService': False, 'GoodForMea...   \n",
      "16  6aEUn50d3Ts7MiGu6WdpKA  {'RestaurantsTableService': False, 'GoodForMea...   \n",
      "17  R6vb0FtmClhfwajs_AuusQ  {'RestaurantsTableService': False, 'GoodForMea...   \n",
      "18  CPuUagT2rfUJm6hRgxn3JQ  {'RestaurantsTableService': False, 'GoodForMea...   \n",
      "19  OYRBjBWy1uOm12N3cokS_Q  {'RestaurantsTableService': False, 'GoodForMea...   \n",
      "\n",
      "                                           categories     name  review_count  \\\n",
      "0   [Fast Food, Gluten-Free, Asian Fusion, Diners,...  Pei Wei            92   \n",
      "1   [Fast Food, Gluten-Free, Asian Fusion, Diners,...  Pei Wei            92   \n",
      "2   [Fast Food, Gluten-Free, Asian Fusion, Diners,...  Pei Wei            92   \n",
      "3   [Fast Food, Gluten-Free, Asian Fusion, Diners,...  Pei Wei            92   \n",
      "4   [Fast Food, Gluten-Free, Asian Fusion, Diners,...  Pei Wei            92   \n",
      "5   [Fast Food, Gluten-Free, Asian Fusion, Diners,...  Pei Wei            92   \n",
      "6   [Fast Food, Gluten-Free, Asian Fusion, Diners,...  Pei Wei            92   \n",
      "7   [Fast Food, Gluten-Free, Asian Fusion, Diners,...  Pei Wei            92   \n",
      "8   [Fast Food, Gluten-Free, Asian Fusion, Diners,...  Pei Wei            92   \n",
      "9   [Fast Food, Gluten-Free, Asian Fusion, Diners,...  Pei Wei            92   \n",
      "10  [Fast Food, Gluten-Free, Asian Fusion, Diners,...  Pei Wei            92   \n",
      "11  [Fast Food, Gluten-Free, Asian Fusion, Diners,...  Pei Wei            92   \n",
      "12  [Fast Food, Gluten-Free, Asian Fusion, Diners,...  Pei Wei            92   \n",
      "13  [Fast Food, Gluten-Free, Asian Fusion, Diners,...  Pei Wei            92   \n",
      "14  [Fast Food, Gluten-Free, Asian Fusion, Diners,...  Pei Wei            92   \n",
      "15  [Fast Food, Gluten-Free, Asian Fusion, Diners,...  Pei Wei            92   \n",
      "16  [Fast Food, Gluten-Free, Asian Fusion, Diners,...  Pei Wei            92   \n",
      "17  [Fast Food, Gluten-Free, Asian Fusion, Diners,...  Pei Wei            92   \n",
      "18  [Fast Food, Gluten-Free, Asian Fusion, Diners,...  Pei Wei            92   \n",
      "19  [Fast Food, Gluten-Free, Asian Fusion, Diners,...  Pei Wei            92   \n",
      "\n",
      "    stars_business                                   processed_review  \n",
      "0              3.5  [place, horrible, excited, try, since, got, gi...  \n",
      "1              3.5  [fairly, fast, food, .., pei, wei, pronounced,...  \n",
      "2              3.5  [decided, try, celiac, therefore, eat, gluten,...  \n",
      "3              3.5  [saying, pei, wei, best, asian, food, ever, ta...  \n",
      "4              3.5  [sometimes, food, spot, delicious, time, quite...  \n",
      "5              3.5  [decent, customer, service, food, awful, cold,...  \n",
      "6              3.5  [super, clean, restaurant, friendly, staff, fr...  \n",
      "7              3.5  [found, night, pf, chang, fast, food, option, ...  \n",
      "8              3.5  [staff, great, nice, wonderful, quick, people,...  \n",
      "9              3.5  [garlic, ginger, broccoli, chicken, good, broc...  \n",
      "10             3.5  [review, based, upon, consistency, flavor, gre...  \n",
      "11             3.5  [love, place, recommend, anyone, always, order...  \n",
      "12             3.5  [1st, place, closed, issue, legal, worker, fra...  \n",
      "13             3.5  [definitely, fan, coming, orange, county, ca, ...  \n",
      "14             3.5  [pretty, good, great, definitely, overpriced, ...  \n",
      "15             3.5  [wish, could, give, 1, 5, star, nothing, speci...  \n",
      "16             3.5  [disappointed, yelp, hour, show, open, 1030am,...  \n",
      "17             3.5  [1st, visit, lo, mein, ..., delish, 2nd, visit...  \n",
      "18             3.5  [vegetarian, difficult, find, place, good, opt...  \n",
      "19             3.5  [typical, big, business, chinese, place, sligh...  \n"
     ]
    }
   ],
   "source": [
    "print(joint_df.head(20))"
   ]
  },
  {
   "cell_type": "markdown",
   "metadata": {},
   "source": [
    "# Drop excess columns"
   ]
  },
  {
   "cell_type": "code",
   "execution_count": 30,
   "metadata": {
    "collapsed": true
   },
   "outputs": [],
   "source": [
    "# drop columns after merge and pre-processing\n",
    "# note: the text column has an observation that does not store and load well and will need to be found and removed if text column is to be included.\n",
    "dropped_columns = ['business_id', 'review_id', 'text', 'name']\n",
    "for column in dropped_columns:\n",
    "    del joint_df[column]"
   ]
  },
  {
   "cell_type": "code",
   "execution_count": 31,
   "metadata": {},
   "outputs": [
    {
     "name": "stdout",
     "output_type": "stream",
     "text": [
      "(2876509, 11)\n"
     ]
    }
   ],
   "source": [
    "print(joint_df.shape )"
   ]
  },
  {
   "cell_type": "markdown",
   "metadata": {},
   "source": [
    "# Save output of data wrangling "
   ]
  },
  {
   "cell_type": "markdown",
   "metadata": {},
   "source": [
    "## Save merged data of reviews and restaurants in the USA "
   ]
  },
  {
   "cell_type": "code",
   "execution_count": 32,
   "metadata": {},
   "outputs": [],
   "source": [
    "# Save df into a csv (approx 5 mins, 4.48 GB)\n",
    "filename_out = os.path.join(dir, '02_processed_data','restaurant_reviews.csv')\n",
    "joint_df.to_csv(filename_out, index=False )"
   ]
  },
  {
   "cell_type": "markdown",
   "metadata": {},
   "source": [
    "## Verify CSV"
   ]
  },
  {
   "cell_type": "code",
   "execution_count": 38,
   "metadata": {},
   "outputs": [],
   "source": [
    "# Load df from a csv (approx 5 mins)\n",
    "file_path = os.path.join(dir, '02_processed_data','restaurant_reviews.csv')\n",
    "joint_df2 = pd.read_csv(file_path, index_col = False, parse_dates= ['date'])"
   ]
  },
  {
   "cell_type": "code",
   "execution_count": 40,
   "metadata": {},
   "outputs": [
    {
     "name": "stdout",
     "output_type": "stream",
     "text": [
      "Saved df shape: (2876509, 11)\n",
      "Loaded df shape: (2876509, 11)\n",
      "-------------\n",
      "Saved df info:\n",
      "<class 'pandas.core.frame.DataFrame'>\n",
      "Int64Index: 2876509 entries, 0 to 2876508\n",
      "Data columns (total 11 columns):\n",
      "cool                int64\n",
      "date                datetime64[ns]\n",
      "funny               int64\n",
      "stars_review        int64\n",
      "useful              int64\n",
      "user_id             object\n",
      "attributes          object\n",
      "categories          object\n",
      "review_count        int64\n",
      "stars_business      float64\n",
      "processed_review    object\n",
      "dtypes: datetime64[ns](1), float64(1), int64(5), object(4)\n",
      "memory usage: 263.4+ MB\n",
      "None\n",
      "-------------\n",
      "Loaded df info:\n",
      "<class 'pandas.core.frame.DataFrame'>\n",
      "RangeIndex: 2876509 entries, 0 to 2876508\n",
      "Data columns (total 11 columns):\n",
      "cool                int64\n",
      "date                datetime64[ns]\n",
      "funny               int64\n",
      "stars_review        int64\n",
      "useful              int64\n",
      "user_id             object\n",
      "attributes          object\n",
      "categories          object\n",
      "review_count        int64\n",
      "stars_business      float64\n",
      "processed_review    object\n",
      "dtypes: datetime64[ns](1), float64(1), int64(5), object(4)\n",
      "memory usage: 241.4+ MB\n",
      "None\n"
     ]
    }
   ],
   "source": [
    "# run checks to see the data frames are similar\n",
    "print( 'Saved df shape:', str(joint_df.shape) )\n",
    "print( 'Loaded df shape:', str(joint_df2.shape) )\n",
    "print( '-------------')\n",
    "print( 'Saved df info:')\n",
    "print( joint_df.info() )\n",
    "print( '-------------')\n",
    "print( 'Loaded df info:')\n",
    "print( joint_df2.info() )"
   ]
  },
  {
   "cell_type": "markdown",
   "metadata": {},
   "source": [
    "# Vectorize pre-processed text"
   ]
  },
  {
   "cell_type": "markdown",
   "metadata": {},
   "source": [
    "## Define vectorizer"
   ]
  },
  {
   "cell_type": "code",
   "execution_count": 1,
   "metadata": {
    "collapsed": true
   },
   "outputs": [],
   "source": [
    "# Import libraries\n",
    "import os\n",
    "import pandas as pd\n",
    "import matplotlib.pyplot as plt\n",
    "import numpy as np\n",
    "\n",
    "# Import NLP dictionaries\n",
    "from sklearn.feature_extraction.text import CountVectorizer"
   ]
  },
  {
   "cell_type": "code",
   "execution_count": 2,
   "metadata": {
    "collapsed": true
   },
   "outputs": [],
   "source": [
    "# get current directory\n",
    "dir = os.path.dirname(os.path.abspath('__file__'))"
   ]
  },
  {
   "cell_type": "code",
   "execution_count": 38,
   "metadata": {
    "collapsed": true
   },
   "outputs": [],
   "source": [
    "# Load df from a csv (approx 5 mins)\n",
    "file_path = os.path.join(dir, '02_processed_data','restaurant_reviews.csv')\n",
    "joint_df = pd.read_csv(file_path, index_col = False, parse_dates= ['date'])"
   ]
  },
  {
   "cell_type": "code",
   "execution_count": 21,
   "metadata": {},
   "outputs": [
    {
     "name": "stdout",
     "output_type": "stream",
     "text": [
      "3000\n"
     ]
    }
   ],
   "source": [
    "# Initialize scikit-learn's bag of words tool -  \"CountVectorizer\"\n",
    "# Source: http://scikit-learn.org/stable/modules/generated/sklearn.feature_extraction.text.CountVectorizer.html\n",
    "n_features = 3000\n",
    "vectorizer = CountVectorizer(analyzer = 'word',\n",
    "                             max_features = n_features,\n",
    "                             max_df=0.95, \n",
    "                             min_df=2).fit(\" \".join(line) for line in joint_df['processed_review'])\n",
    "print (len(vectorizer.vocabulary_))"
   ]
  },
  {
   "cell_type": "markdown",
   "metadata": {},
   "source": [
    "## Vectorize text"
   ]
  },
  {
   "cell_type": "code",
   "execution_count": 22,
   "metadata": {
    "collapsed": true
   },
   "outputs": [],
   "source": [
    "# Vectorize text and convert the result to an Numpy array\n",
    "vectorized_text = vectorizer.transform(\" \".join(line) for line in joint_df['processed_review'])\n",
    "vectorized_text_array = vectorized_text.toarray()"
   ]
  },
  {
   "cell_type": "markdown",
   "metadata": {},
   "source": [
    "## Explore word vector properties and most common words"
   ]
  },
  {
   "cell_type": "code",
   "execution_count": 23,
   "metadata": {},
   "outputs": [
    {
     "name": "stdout",
     "output_type": "stream",
     "text": [
      "sparse matrix shape: (2876509, 3000)\n",
      "number of non-zeros: 119826809\n",
      "sparsity: 1.39%\n",
      "food            2293171\n",
      "good            1892858\n",
      "place           1889152\n",
      "great           1344620\n",
      "service         1180824\n",
      "time            1178872\n",
      "like            1131077\n",
      "one             1004655\n",
      "get              938087\n",
      "back             863566\n",
      "go               857214\n",
      "really           827370\n",
      "restaurant       826086\n",
      "would            821958\n",
      "ordered          700710\n",
      "order            698338\n",
      "also             658247\n",
      "chicken          643743\n",
      "menu             595335\n",
      "got              580615\n",
      "nice             557659\n",
      "best             555557\n",
      "come             543735\n",
      "well             541939\n",
      "came             533220\n",
      "try              531427\n",
      "delicious        526938\n",
      "table            519562\n",
      "even             514624\n",
      "love             504504\n",
      "                 ...   \n",
      "deliciously        5203\n",
      "sriracha           5203\n",
      "macaroon           5199\n",
      "politely           5199\n",
      "remove             5197\n",
      "americanized       5195\n",
      "eager              5195\n",
      "carolina           5191\n",
      "traveling          5189\n",
      "surrounding        5188\n",
      "fixe               5187\n",
      "reviewed           5180\n",
      "garage             5177\n",
      "timing             5174\n",
      "tipped             5173\n",
      "ignore             5173\n",
      "opposed            5167\n",
      "chilled            5167\n",
      "powder             5164\n",
      "smart              5161\n",
      "eve                5157\n",
      "matcha             5150\n",
      "holding            5149\n",
      "success            5143\n",
      "towel              5142\n",
      "pricier            5140\n",
      "july               5136\n",
      "push               5135\n",
      "fritter            5132\n",
      "boat               5126\n",
      "Length: 3000, dtype: int64\n"
     ]
    }
   ],
   "source": [
    "# Get list of words in the vocabulary\n",
    "vocab = vectorizer.get_feature_names()\n",
    "\n",
    "# Sum up the counts of each vocabulary word\n",
    "dist = np.sum(vectorized_text_array, axis=0)\n",
    "\n",
    "# Explore vector metrics\n",
    "print ('sparse matrix shape:', vectorized_text.shape)\n",
    "print ('number of non-zeros:', vectorized_text.nnz)\n",
    "print ('sparsity: %.2f%%' % (100.0 * vectorized_text.nnz / (vectorized_text.shape[0] * vectorized_text.shape[1])))\n",
    "\n",
    "# Print most used words in reverse order\n",
    "print( pd.Series( dict(list(zip(vocab, dist))) ).sort_values( ascending = False) )"
   ]
  },
  {
   "cell_type": "markdown",
   "metadata": {
    "collapsed": true
   },
   "source": [
    "# Explore the vector"
   ]
  },
  {
   "cell_type": "code",
   "execution_count": 24,
   "metadata": {},
   "outputs": [
    {
     "name": "stdout",
     "output_type": "stream",
     "text": [
      "[23 36 56 ..., 64 33 28]\n"
     ]
    }
   ],
   "source": [
    "# Sum up the word counts of each review\n",
    "review_words = np.sum(vectorized_text_array, axis=1)\n",
    "print(review_words)"
   ]
  },
  {
   "cell_type": "code",
   "execution_count": 25,
   "metadata": {},
   "outputs": [
    {
     "name": "stdout",
     "output_type": "stream",
     "text": [
      "Mean : 50.1913590397\n"
     ]
    },
    {
     "data": {
      "image/png": "[encoded data removed]",
      "text/plain": [
       "<matplotlib.figure.Figure at 0x2b07ab278>"
      ]
     },
     "metadata": {},
     "output_type": "display_data"
    }
   ],
   "source": [
    "print( 'Mean :', np.mean(review_words) )\n",
    "review_word_count = pd.Series(review_words)\n",
    "review_word_count.plot(kind='hist', bins=25, normed=True, cumulative=True)\n",
    "plt.show()"
   ]
  },
  {
   "cell_type": "markdown",
   "metadata": {},
   "source": [
    "## Save vectorized text array"
   ]
  },
  {
   "cell_type": "code",
   "execution_count": null,
   "metadata": {
    "collapsed": true
   },
   "outputs": [],
   "source": [
    "# Save vectorized text into a npy\n",
    "# https://stackoverflow.com/questions/28439701/how-to-save-and-load-numpy-array-data-properly\n",
    "filename_out = os.path.join(dir, '02_processed_data','vectorized_reviews.npy')\n",
    "np.save(filename_out, vectorized_text_array)    # .npy extension is added if not given\n",
    "\n",
    "# note to load use vectorized_text_array = np.load(filename_out)"
   ]
  }
 ],
 "metadata": {
  "kernelspec": {
   "display_name": "Python 3",
   "language": "python",
   "name": "python3"
  },
  "language_info": {
   "codemirror_mode": {
    "name": "ipython",
    "version": 3
   },
   "file_extension": ".py",
   "mimetype": "text/x-python",
   "name": "python",
   "nbconvert_exporter": "python",
   "pygments_lexer": "ipython3",
   "version": "3.6.2"
  }
 },
 "nbformat": 4,
 "nbformat_minor": 2
}
