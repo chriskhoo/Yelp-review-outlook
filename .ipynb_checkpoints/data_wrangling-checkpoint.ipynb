{
 "cells": [
  {
   "cell_type": "code",
   "execution_count": 1,
   "metadata": {
    "collapsed": true
   },
   "outputs": [],
   "source": [
    "# Import libraries\n",
    "import json\n",
    "import os\n",
    "import pandas as pd\n",
    "from matplotlib import pyplot as plt"
   ]
  },
  {
   "cell_type": "code",
   "execution_count": null,
   "metadata": {
    "collapsed": true
   },
   "outputs": [],
   "source": [
    "# get current directory\n",
    "dir = os.path.dirname(os.path.abspath('__file__'))"
   ]
  },
  {
   "cell_type": "code",
   "execution_count": 2,
   "metadata": {
    "scrolled": false
   },
   "outputs": [],
   "source": [
    "# Load review data \n",
    "# Raw data in the format of {} {} {} seperated by lines\n",
    "\n",
    "# get file path (generalize for different OS) for reviews\n",
    "filename = os.path.join(dir, 'raw_data','review.json')\n",
    "\n",
    "# create a list of reviews\n",
    "with open(filename, encoding=\"utf8\", mode='r') as file:\n",
    "    reviews = [json.loads(line) for line in file]\n",
    "\n",
    "# create a pandas data frame from review data \n",
    "reviews_df = pd.DataFrame(reviews)"
   ]
  },
  {
   "cell_type": "code",
   "execution_count": 3,
   "metadata": {},
   "outputs": [
    {
     "name": "stdout",
     "output_type": "stream",
     "text": [
      "(4736897, 9)\n",
      "              business_id  cool        date  funny               review_id  \\\n",
      "0  uYHaNptLzDLoV_JZ_MuzUA     0  2016-07-12      0  VfBHSwC5Vz_pbFluy07i9Q   \n",
      "1  uYHaNptLzDLoV_JZ_MuzUA     0  2016-10-02      0  3zRpneRKDsOPq92tq7ybAA   \n",
      "2  uYHaNptLzDLoV_JZ_MuzUA     0  2015-09-17      0  ne5WhI1jUFOcRn-b-gAzHA   \n",
      "3  uYHaNptLzDLoV_JZ_MuzUA     0  2016-08-21      0  llmdwOgDReucVoWEry61Lw   \n",
      "4  uYHaNptLzDLoV_JZ_MuzUA     0  2013-11-20      0  DuffS87NaSMDmIfluvT83g   \n",
      "\n",
      "   stars                                               text  useful  \\\n",
      "0      5  My girlfriend and I stayed here for 3 nights a...       0   \n",
      "1      3  If you need an inexpensive place to stay for a...       0   \n",
      "2      3  Mittlerweile gibt es in Edinburgh zwei Ableger...       0   \n",
      "3      4  Location is everything and this hotel has it! ...       0   \n",
      "4      5  gute lage im stadtzentrum. shoppingmeile und s...       0   \n",
      "\n",
      "                  user_id  \n",
      "0  cjpdDjZyprfyDG3RlkVG3w  \n",
      "1  bjTcT8Ty4cJZhEOEo01FGA  \n",
      "2  AXgRULmWcME7J6Ix3I--ww  \n",
      "3  oU2SSOmsp_A8JYI7Z2JJ5w  \n",
      "4  0xtbPEna2Kei11vsU-U2Mw  \n",
      "<class 'pandas.core.frame.DataFrame'>\n",
      "RangeIndex: 4736897 entries, 0 to 4736896\n",
      "Data columns (total 9 columns):\n",
      "business_id    object\n",
      "cool           int64\n",
      "date           object\n",
      "funny          int64\n",
      "review_id      object\n",
      "stars          int64\n",
      "text           object\n",
      "useful         int64\n",
      "user_id        object\n",
      "dtypes: int64(4), object(5)\n",
      "memory usage: 325.3+ MB\n",
      "None\n",
      "               cool         funny         stars        useful\n",
      "count  4.736897e+06  4.736897e+06  4.736897e+06  4.736897e+06\n",
      "mean   5.096600e-01  4.029171e-01  3.724048e+00  9.882921e-01\n",
      "std    1.960374e+00  1.721954e+00  1.421104e+00  2.600021e+00\n",
      "min    0.000000e+00  0.000000e+00  1.000000e+00  0.000000e+00\n",
      "25%    0.000000e+00  0.000000e+00  3.000000e+00  0.000000e+00\n",
      "50%    0.000000e+00  0.000000e+00  4.000000e+00  0.000000e+00\n",
      "75%    0.000000e+00  0.000000e+00  5.000000e+00  1.000000e+00\n",
      "max    5.130000e+02  6.310000e+02  5.000000e+00  1.125000e+03\n"
     ]
    }
   ],
   "source": [
    "# review data exploration \n",
    "print(reviews_df.shape )\n",
    "print(reviews_df.info() )\n",
    "print(reviews_df.describe() )\n",
    "\n",
    "# check for null values\n",
    "print( reviews_df.isnull().sum().sum() )"
   ]
  },
  {
   "cell_type": "code",
   "execution_count": 30,
   "metadata": {},
   "outputs": [
    {
     "name": "stdout",
     "output_type": "stream",
     "text": [
      "0\n"
     ]
    }
   ],
   "source": [
    "# convert date to a datetime - note stars will be kept as an integer vs category\n",
    "reviews_df['date'] = pd.to_datetime(reviews_df['date'], format='%Y-%m-%d')\n",
    "\n",
    "# outcome: no null values"
   ]
  },
  {
   "cell_type": "code",
   "execution_count": 49,
   "metadata": {},
   "outputs": [
    {
     "name": "stdout",
     "output_type": "stream",
     "text": [
      "               business_id  cool       date  funny               review_id  \\\n",
      "0   uYHaNptLzDLoV_JZ_MuzUA     0 2016-07-12      0  VfBHSwC5Vz_pbFluy07i9Q   \n",
      "1   uYHaNptLzDLoV_JZ_MuzUA     0 2016-10-02      0  3zRpneRKDsOPq92tq7ybAA   \n",
      "2   uYHaNptLzDLoV_JZ_MuzUA     0 2015-09-17      0  ne5WhI1jUFOcRn-b-gAzHA   \n",
      "3   uYHaNptLzDLoV_JZ_MuzUA     0 2016-08-21      0  llmdwOgDReucVoWEry61Lw   \n",
      "4   uYHaNptLzDLoV_JZ_MuzUA     0 2013-11-20      0  DuffS87NaSMDmIfluvT83g   \n",
      "5   uYHaNptLzDLoV_JZ_MuzUA     0 2016-06-05      0  GvLmUkjUrOyFH8KFnmT1uw   \n",
      "6   uYHaNptLzDLoV_JZ_MuzUA     0 2015-02-21      0  lGEl24NGj2HVBJrodeXcjg   \n",
      "7   uYHaNptLzDLoV_JZ_MuzUA     0 2013-07-07      0  cUgvEy5wj7zYE68v1BzzVg   \n",
      "8   uYHaNptLzDLoV_JZ_MuzUA     2 2013-04-27      0  FSB_BnvysBgH3JYrbFNcgw   \n",
      "9   uYHaNptLzDLoV_JZ_MuzUA     0 2015-04-13      0  dhl3ZW9aAEX_T7_um5tfaQ   \n",
      "10  uYHaNptLzDLoV_JZ_MuzUA     1 2016-11-08      1  JQJvnM3p-3eML05eKcTgiw   \n",
      "11  uYHaNptLzDLoV_JZ_MuzUA     0 2015-07-27      0  6JF4WfHgwYrrdZ2VeYtnFw   \n",
      "12  uYHaNptLzDLoV_JZ_MuzUA     0 2014-05-07      0  fbVYETRuWDw8QnpimpGMpg   \n",
      "13  uYHaNptLzDLoV_JZ_MuzUA     0 2015-02-26      0  lobj38NgaokqVseN8_nn6g   \n",
      "14  uYHaNptLzDLoV_JZ_MuzUA     1 2015-08-21      0  ysfjtAWreLoy7um8WTb8xA   \n",
      "15  uYHaNptLzDLoV_JZ_MuzUA     0 2013-12-07      0  OF1ToqGAubsWGri5iad15w   \n",
      "16  jQsNFOzDpxPmOurSWCg1vQ     0 2017-06-03      0  ByRzJ8rF2KJWLr-cUNU6EA   \n",
      "17  jQsNFOzDpxPmOurSWCg1vQ     0 2015-03-26      0  i5UwUPlQFPLcE8p2gPFwBw   \n",
      "18  jQsNFOzDpxPmOurSWCg1vQ     1 2012-12-30      1  EyQyvTTg2jX4or9bB8PC9g   \n",
      "19  jQsNFOzDpxPmOurSWCg1vQ     1 2009-01-12      1  G-EFA005besj5uHsH0sQFA   \n",
      "20  jQsNFOzDpxPmOurSWCg1vQ     0 2015-07-11      0  6PcJSGUBSLjt4VLXos5C4A   \n",
      "21  jQsNFOzDpxPmOurSWCg1vQ     0 2015-05-27      0  PFJmyZD_lNBa_Y3kbX1VvA   \n",
      "22  jQsNFOzDpxPmOurSWCg1vQ     1 2015-02-28      1  _Qv1FQUToLrKMuG6pV4Gzw   \n",
      "23  jQsNFOzDpxPmOurSWCg1vQ     0 2010-04-05      0  s2mlqrFNaPEGtcnEu3EJ4Q   \n",
      "24  jQsNFOzDpxPmOurSWCg1vQ     0 2015-05-22      0  oiSzZRrbi3y01_wqU528ZQ   \n",
      "25  jQsNFOzDpxPmOurSWCg1vQ     0 2011-06-15      0  4BPjRE9VI0HhyZzyyYv0BQ   \n",
      "26  jQsNFOzDpxPmOurSWCg1vQ     0 2017-03-12      0  kznHtw1Qido_9GX6sDQPJw   \n",
      "27  jQsNFOzDpxPmOurSWCg1vQ     1 2016-12-19      0  HWRTVn3Lc-RwN6udv4WJzQ   \n",
      "28  jQsNFOzDpxPmOurSWCg1vQ     0 2011-08-10      0  GiEB_A-m9HuX521WQNbL8w   \n",
      "29  jQsNFOzDpxPmOurSWCg1vQ     0 2013-06-17      0  GKi4i6qocIgaYcwv1_0zzQ   \n",
      "30  jQsNFOzDpxPmOurSWCg1vQ     0 2015-11-03      0  OrhWg2MmCznwfKfjHKvuhA   \n",
      "31  jQsNFOzDpxPmOurSWCg1vQ     0 2017-07-08      0  QXWku_OB3FCj9VCZfUZwwg   \n",
      "32  jQsNFOzDpxPmOurSWCg1vQ     0 2015-09-22      0  5NtaW5EwXK595kP4Ynnisg   \n",
      "33  jQsNFOzDpxPmOurSWCg1vQ     0 2012-10-08      0  ai6O4UqqDqnjO7gfz6jBkA   \n",
      "34  jQsNFOzDpxPmOurSWCg1vQ     0 2015-12-28      0  ZrvsD7PSyPolII3gp4-uHw   \n",
      "35  jQsNFOzDpxPmOurSWCg1vQ     0 2009-11-18      0  p7OqbXTjwmIN_XYohB6TFw   \n",
      "36  jQsNFOzDpxPmOurSWCg1vQ     2 2012-07-29      2  ukpjwnetF5wGhGrSXmPRwA   \n",
      "37  jQsNFOzDpxPmOurSWCg1vQ     0 2016-06-19      0  mT6U5lujK_zIcIqux92seA   \n",
      "38  jQsNFOzDpxPmOurSWCg1vQ     0 2012-08-23      0  YxAxExTdWtdMhEb14RGFRg   \n",
      "39  jQsNFOzDpxPmOurSWCg1vQ     1 2009-06-25      1  ue6ts-gA9khywe76lEL1Kg   \n",
      "40  jQsNFOzDpxPmOurSWCg1vQ     0 2008-10-06      0  WsTYqsyNyUd7xpwFrgwI0g   \n",
      "41  jQsNFOzDpxPmOurSWCg1vQ     1 2015-03-17      1  g9yv-M3kvOQFPyJHCjUrdg   \n",
      "42  jQsNFOzDpxPmOurSWCg1vQ     0 2014-04-22      0  fk8OI26dAhQfot46T_SXWg   \n",
      "43  jQsNFOzDpxPmOurSWCg1vQ     0 2016-05-07      0  ld06EwR5YyutWxud9ude0Q   \n",
      "44  jQsNFOzDpxPmOurSWCg1vQ     1 2014-05-03      0  CxVx2FD73kw--RuzXL_RVA   \n",
      "45  jQsNFOzDpxPmOurSWCg1vQ     1 2014-05-29      1  jJaU6pbKkYgl15P-5zfg3A   \n",
      "46  jQsNFOzDpxPmOurSWCg1vQ     0 2009-12-10      0  7M2GCeIba1uTJMJbVO7TKw   \n",
      "47  jQsNFOzDpxPmOurSWCg1vQ     0 2014-10-01      0  pxs5biP-IzmjXZpoh-iVHg   \n",
      "48  jQsNFOzDpxPmOurSWCg1vQ     0 2015-07-13      0  DW0B2tlav4Z7T1DTzAL7kQ   \n",
      "49  jQsNFOzDpxPmOurSWCg1vQ     0 2016-02-14      0  nI2rhDM2CgNazMdhiODoRQ   \n",
      "\n",
      "    stars                                               text  useful  \\\n",
      "0       5  My girlfriend and I stayed here for 3 nights a...       0   \n",
      "1       3  If you need an inexpensive place to stay for a...       0   \n",
      "2       3  Mittlerweile gibt es in Edinburgh zwei Ableger...       0   \n",
      "3       4  Location is everything and this hotel has it! ...       0   \n",
      "4       5  gute lage im stadtzentrum. shoppingmeile und s...       0   \n",
      "5       5  Erstklassige Lage. Dazu ist alles geschrieben ...       0   \n",
      "6       4  Beautiful space, great location, staff rock. T...       0   \n",
      "7       4  This is a fairly new property I think. It is a...       0   \n",
      "8       4  First time at this group of hotels. Pretty new...       2   \n",
      "9       4  Location location location! \\n\\nMotel One is j...       2   \n",
      "10      4  A hotel that has all the basics that you'd nee...       1   \n",
      "11      3  Stayed here for two nights, costs was £109 per...       1   \n",
      "12      4  Well, i like the idea of Motel One. Always in ...       1   \n",
      "13      4  I really do love the Germans. This chain is sp...       1   \n",
      "14      5  Motel One sets the standard for budget hotels....       1   \n",
      "15      3  Had Continental style breakfast here a short d...       1   \n",
      "16      1  This place is horrible, we were so excited to ...       0   \n",
      "17      4  For being fairly \"fast\" food.. Pei Wei (pronou...       1   \n",
      "18      5  I decided to try it out, I'm celiac and theref...       2   \n",
      "19      3  I'm not saying Pei Wei is the best asian food ...       1   \n",
      "20      3  Sometimes the food is spot on and delicious an...       0   \n",
      "21      1  Decent customer service but the food was awful...       0   \n",
      "22      5  Super clean restaurant and friendly staff. FRE...       1   \n",
      "23      4  Found this the other night.  It is the PF Chan...       0   \n",
      "24      1  The staff here is great and they're nice,  won...       0   \n",
      "25      2  I had the garlic ginger broccoli chicken and i...       1   \n",
      "26      5  This review is based upon consistency of flavo...       0   \n",
      "27      5  I love this place i'd recommend it to anyone !...       1   \n",
      "28      4  1st! Place is not closed. There was an issue w...       1   \n",
      "29      2  Definitely not a fan. Coming from Orange Count...       0   \n",
      "30      3  Pretty good, not great. Definitely overpriced....       0   \n",
      "31      1  I wish I could give 1.5 stars. Nothing special...       0   \n",
      "32      2  Disappointed that on yelp their hours show the...       1   \n",
      "33      3  1st visit had the lo mein...delish!  \\n2nd vis...       0   \n",
      "34      5  As a vegetarian, it can difficult to find plac...       0   \n",
      "35      2  Typical big business chinese place. Slightly f...       0   \n",
      "36      4  I love Pei Wei since it's just a bit more affo...       1   \n",
      "37      4  Great fresh food and clean restaurant. Friendl...       1   \n",
      "38      3  This is pretty good. My wife and I usually spl...       0   \n",
      "39      4  Food is good and consistent and the service is...       2   \n",
      "40      4  The hubs and I dined at the Glendale location ...       0   \n",
      "41      3  Very clean and staff is always friendly. I usu...       2   \n",
      "42      1  If I could give no stars I would. My family pl...       0   \n",
      "43      5  I went to Surprise Pei Wei Restuarant tonight ...       0   \n",
      "44      4  I like Pei Wei overall and enjoy their varied ...       1   \n",
      "45      3  Everything was good except Thai chicken wraps....       0   \n",
      "46      1  I really don't understand how anyone can eat t...       1   \n",
      "47      2  Went in for lunch with a coworker today. The s...       0   \n",
      "48      5  The food is great and customer service is the ...       1   \n",
      "49      2  OH MY GOD, this place. I used to like Pei Wei ...       0   \n",
      "\n",
      "                   user_id  \n",
      "0   cjpdDjZyprfyDG3RlkVG3w  \n",
      "1   bjTcT8Ty4cJZhEOEo01FGA  \n",
      "2   AXgRULmWcME7J6Ix3I--ww  \n",
      "3   oU2SSOmsp_A8JYI7Z2JJ5w  \n",
      "4   0xtbPEna2Kei11vsU-U2Mw  \n",
      "5   rW8q706dz5-NnXDzMwVkiw  \n",
      "6   yx8vNXUL0D0HS8rUIC7AFA  \n",
      "7   zXnH6W74FAJQ7q7b-NuBsA  \n",
      "8   c5yp5hxwC1N98MjbV2LyWQ  \n",
      "9   xJisL5w4wOgiYLokGMT_IA  \n",
      "10  tgV6tsYQ66DZ3LQKvtC6cw  \n",
      "11  Q-3YCVywc03w56wYtGlKvg  \n",
      "12  Cx4UCow0zQgFQOp47RRRaA  \n",
      "13  eqWEgMH-DCP74i82BEAZzw  \n",
      "14  d0DGZRp6lHXGECJSc_nn-A  \n",
      "15  IpLZ7RevQrFPJWYc9Gxymg  \n",
      "16  kzyLOqiJvyw_FWFTw2rjiQ  \n",
      "17  WZXp9-V2dqRRJqhGgRqueA  \n",
      "18  XylT12exfdLiI_3uDLVIpw  \n",
      "19  Ji9PeffxjwqPLO7pEfSpKQ  \n",
      "20  TLIWzAJPrET0zX4_vgvLhg  \n",
      "21  JZEiTNWBwmv6MOOXYCAaMQ  \n",
      "22  E56sVQT5-OWfSejJrma8_w  \n",
      "23  4WYICo4emecA9r7sPYQkBw  \n",
      "24  P8mVj7AZwJTFFH5FXbbmUg  \n",
      "25  7Y4NEBQqWg7j-TvrQi6UZQ  \n",
      "26  vgZqQqe8cj6SBMH0EqDliw  \n",
      "27  O7G_c6wFXSygr82qs0GAcA  \n",
      "28  UG4EKu13JRwzRix6ESINdg  \n",
      "29  ZZG6yR27lIy3xwUYVgHO7w  \n",
      "30  1YorWW0Z-YDuYC5GplNabw  \n",
      "31  ujOPJEz_KxzAyZDnji-2Ng  \n",
      "32  6aEUn50d3Ts7MiGu6WdpKA  \n",
      "33  R6vb0FtmClhfwajs_AuusQ  \n",
      "34  CPuUagT2rfUJm6hRgxn3JQ  \n",
      "35  OYRBjBWy1uOm12N3cokS_Q  \n",
      "36  PKZLwAGgBtQCjJtGhyPETA  \n",
      "37  9bJ6j0zrV1XSiSnzQWM5Tw  \n",
      "38  8nCmV4RMwf4GpaN-A_2Tfw  \n",
      "39  tbAQMMVlhxvXhe6KifrZ-A  \n",
      "40  1s0Q1KwGpJIKvD-SRSpwjw  \n",
      "41  -0kiduTUToVYFqN_NEqMSw  \n",
      "42  KrQ_dWOBn2voaQLNv7hj8A  \n",
      "43  2L_1kyJDOkEaPDiBRohx9w  \n",
      "44  xlkjaJUu2fVojeaaVgQPOw  \n",
      "45  alTlRb9qMBX11pARX05Big  \n",
      "46  e--whH51bx5mDaMo3aJ-hg  \n",
      "47  Ns0hZ0xDOuVRMpHk0Q-5Yw  \n",
      "48  SM20gx7YH0GtI5JOXhfXdg  \n",
      "49  R-kL1bocHgP4GW7Mgd-ZXA  \n"
     ]
    }
   ],
   "source": [
    "# check output of first 50 \n",
    "print(reviews_df.head(50) )\n",
    "\n",
    "# outcome: some reviews look like accommodation and other non-restaurant business (e.g. first 15) \n",
    "# and some reviews are in a different language (e.g. index 4 and 5) and "
   ]
  },
  {
   "cell_type": "code",
   "execution_count": 50,
   "metadata": {},
   "outputs": [],
   "source": [
    "# Load in business data \n",
    "\n",
    "# get file path (generalize for different OS) for reviews\n",
    "filename = os.path.join(dir, 'raw_data','business.json')\n",
    "\n",
    "# create a list of reviews\n",
    "with open(filename, encoding=\"utf8\", mode='r') as file:\n",
    "    businesses = [json.loads(line) for line in file]\n",
    "\n",
    "# create a pandas data frame from review data \n",
    "businesses_df = pd.DataFrame(businesses)"
   ]
  },
  {
   "cell_type": "code",
   "execution_count": 52,
   "metadata": {},
   "outputs": [
    {
     "name": "stdout",
     "output_type": "stream",
     "text": [
      "(156639, 15)\n",
      "<class 'pandas.core.frame.DataFrame'>\n",
      "RangeIndex: 156639 entries, 0 to 156638\n",
      "Data columns (total 15 columns):\n",
      "address         156639 non-null object\n",
      "attributes      156639 non-null object\n",
      "business_id     156639 non-null object\n",
      "categories      156639 non-null object\n",
      "city            156639 non-null object\n",
      "hours           156639 non-null object\n",
      "is_open         156639 non-null int64\n",
      "latitude        156638 non-null float64\n",
      "longitude       156638 non-null float64\n",
      "name            156639 non-null object\n",
      "neighborhood    156639 non-null object\n",
      "postal_code     156639 non-null object\n",
      "review_count    156639 non-null int64\n",
      "stars           156639 non-null float64\n",
      "state           156639 non-null object\n",
      "dtypes: float64(3), int64(2), object(10)\n",
      "memory usage: 17.9+ MB\n",
      "None\n",
      "             is_open       latitude      longitude   review_count  \\\n",
      "count  156639.000000  156638.000000  156638.000000  156639.000000   \n",
      "mean        0.844375      38.585033     -92.856485      30.238159   \n",
      "std         0.362501       5.399871      26.557741      96.486631   \n",
      "min         0.000000     -36.086009    -142.466650       3.000000   \n",
      "25%         1.000000      33.627161    -112.138207       4.000000   \n",
      "50%         1.000000      36.142381     -89.523198       9.000000   \n",
      "75%         1.000000      43.596845     -79.668760      23.000000   \n",
      "max         1.000000      89.999314     115.086769    6979.000000   \n",
      "\n",
      "               stars  \n",
      "count  156639.000000  \n",
      "mean        3.647154  \n",
      "std         0.977640  \n",
      "min         1.000000  \n",
      "25%         3.000000  \n",
      "50%         3.500000  \n",
      "75%         4.500000  \n",
      "max         5.000000  \n",
      "2\n"
     ]
    }
   ],
   "source": [
    "# business data exploration \n",
    "print(businesses_df.shape )\n",
    "print(businesses_df.info() )\n",
    "print(businesses_df.describe() )\n",
    "\n",
    "# check for null values\n",
    "print( businesses_df.isnull().sum().sum() )\n",
    "# outcome: 2 null values - one in lat, the other in long \n",
    "\n",
    "# check output\n",
    "print(businesses_df.head() )"
   ]
  },
  {
   "cell_type": "code",
   "execution_count": 123,
   "metadata": {},
   "outputs": [],
   "source": [
    "# drop columns - address, city, hours, is_open, neighborhood, postal_code, state, latitude, longitude\n",
    "dropped_columns = ['address','city','hours', 'is_open','neighborhood','postal_code', 'state', 'latitude', 'longitude']\n",
    "for column in dropped_columns:\n",
    "    del businesses_df[column]"
   ]
  },
  {
   "cell_type": "code",
   "execution_count": 124,
   "metadata": {},
   "outputs": [
    {
     "name": "stdout",
     "output_type": "stream",
     "text": [
      "(51613, 6)\n"
     ]
    }
   ],
   "source": [
    "# Extract only restaurants \n",
    "restaurants_df = businesses_df[ businesses_df['categories'].apply(lambda categories: any(pd.Series(categories).str.contains('Restaurants')) if len(categories)>0 else False)]\n",
    "print( restaurants_df.shape )"
   ]
  },
  {
   "cell_type": "code",
   "execution_count": 125,
   "metadata": {},
   "outputs": [
    {
     "name": "stdout",
     "output_type": "stream",
     "text": [
      "(2927731, 14)\n"
     ]
    }
   ],
   "source": [
    "# Merge both data frames\n",
    "joint_df = pd.merge(reviews_df, restaurants_df, on='business_id', suffixes=['_review', '_business'])\n",
    "print( joint_df.shape )\n",
    "# Inner join reduced the total number of reviews from 4 736 897 to the 2 927 731 from restaurants "
   ]
  },
  {
   "cell_type": "code",
   "execution_count": 146,
   "metadata": {},
   "outputs": [
    {
     "data": {
      "text/plain": [
       "0          This place is horrible, we were so excited to ...\n",
       "1          For being fairly \"fast\" food.. Pei Wei (pronou...\n",
       "2          I decided to try it out, I'm celiac and theref...\n",
       "3          I'm not saying Pei Wei is the best asian food ...\n",
       "4          Sometimes the food is spot on and delicious an...\n",
       "5          Decent customer service but the food was awful...\n",
       "6          Super clean restaurant and friendly staff. FRE...\n",
       "7          Found this the other night.  It is the PF Chan...\n",
       "8          The staff here is great and they're nice,  won...\n",
       "9          I had the garlic ginger broccoli chicken and i...\n",
       "10         This review is based upon consistency of flavo...\n",
       "11         I love this place i'd recommend it to anyone !...\n",
       "12         1st! Place is not closed. There was an issue w...\n",
       "13         Definitely not a fan. Coming from Orange Count...\n",
       "14         Pretty good, not great. Definitely overpriced....\n",
       "15         I wish I could give 1.5 stars. Nothing special...\n",
       "16         Disappointed that on yelp their hours show the...\n",
       "17         1st visit had the lo mein...delish!  \\n2nd vis...\n",
       "18         As a vegetarian, it can difficult to find plac...\n",
       "19         Typical big business chinese place. Slightly f...\n",
       "20         I love Pei Wei since it's just a bit more affo...\n",
       "21         Great fresh food and clean restaurant. Friendl...\n",
       "22         This is pretty good. My wife and I usually spl...\n",
       "23         Food is good and consistent and the service is...\n",
       "24         The hubs and I dined at the Glendale location ...\n",
       "25         Very clean and staff is always friendly. I usu...\n",
       "26         If I could give no stars I would. My family pl...\n",
       "27         I went to Surprise Pei Wei Restuarant tonight ...\n",
       "28         I like Pei Wei overall and enjoy their varied ...\n",
       "29         Everything was good except Thai chicken wraps....\n",
       "                                 ...                        \n",
       "2927701    One of the best ramen ever! Really nice place,...\n",
       "2927702    It was really good my only issue is that they ...\n",
       "2927703    Ramen was delicious. Teriyaki was fresh and fl...\n",
       "2927704    I ordered a Tonkotsu ramen, wonton chips and a...\n",
       "2927705    Went on a Thursday night.\\nThick noodle, tonko...\n",
       "2927706    This place looks cool but the food and service...\n",
       "2927707    It's a cute spot to check out. Their corn was ...\n",
       "2927708    If you are downtown this is the only ramen pla...\n",
       "2927709    Standard ramen. Great way of naming dishes. Cu...\n",
       "2927710    Ramen was good. Ambiance very hip. Service was...\n",
       "2927711    Pleasantly cozy but modern... Good food and se...\n",
       "2927712    So me and my daughter are ramen addicts and we...\n",
       "2927713    For a trendy downtown spot, the food was a bit...\n",
       "2927714    I really like this place. The variety of broth...\n",
       "2927715    My umpteenth time coming back here! The new Me...\n",
       "2927716    Note to self: If I'm vegetarian and order ever...\n",
       "2927717    Had a party of 8 and had a great experience he...\n",
       "2927718    Never had Ramen and Noodles but my friend want...\n",
       "2927719    There are plenty of good Ramen houses in Vegas...\n",
       "2927720    This place reminds me of a ramen house in Waik...\n",
       "2927721    It's interesting concept to eat Japanese ramen...\n",
       "2927722    First of all, I love ramen and I live in a cit...\n",
       "2927723    Have come here every other week since they ope...\n",
       "2927724    Although my love for ramen still stays with Mo...\n",
       "2927725    Loved it. The staff was super friendly, the en...\n",
       "2927726    Downtown LV is trying so hard to be Hipster ce...\n",
       "2927727    After three days of working an anime conventio...\n",
       "2927728    I'll give this place 2-stars as I'm all for su...\n",
       "2927729    The vibe here is awesome. Great art & music. \\...\n",
       "2927730    This place was amazing! It's a little past Fre...\n",
       "Name: text, Length: 2927731, dtype: object"
      ]
     },
     "execution_count": 146,
     "metadata": {},
     "output_type": "execute_result"
    }
   ],
   "source": [
    "joint_df.iloc[:,:]['text']"
   ]
  },
  {
   "cell_type": "code",
   "execution_count": 136,
   "metadata": {},
   "outputs": [
    {
     "name": "stdout",
     "output_type": "stream",
     "text": [
      "0.6180693817070542\n"
     ]
    }
   ],
   "source": []
  },
  {
   "cell_type": "code",
   "execution_count": null,
   "metadata": {
    "collapsed": true
   },
   "outputs": [],
   "source": []
  }
 ],
 "metadata": {
  "kernelspec": {
   "display_name": "Python 3",
   "language": "python",
   "name": "python3"
  },
  "language_info": {
   "codemirror_mode": {
    "name": "ipython",
    "version": 3
   },
   "file_extension": ".py",
   "mimetype": "text/x-python",
   "name": "python",
   "nbconvert_exporter": "python",
   "pygments_lexer": "ipython3",
   "version": "3.6.2"
  }
 },
 "nbformat": 4,
 "nbformat_minor": 2
}
