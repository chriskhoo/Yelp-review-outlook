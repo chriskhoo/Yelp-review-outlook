{
 "cells": [
  {
   "cell_type": "markdown",
   "metadata": {},
   "source": [
    "# Import dependencies and determine working directory"
   ]
  },
  {
   "cell_type": "code",
   "execution_count": 1,
   "metadata": {
    "collapsed": true
   },
   "outputs": [],
   "source": [
    "# Import libraries\n",
    "import os\n",
    "import pandas as pd\n",
    "import matplotlib.pyplot as plt\n",
    "import numpy as np\n",
    "\n",
    "# Import NLP dictionaries\n",
    "from sklearn.feature_extraction.text import CountVectorizer"
   ]
  },
  {
   "cell_type": "code",
   "execution_count": 2,
   "metadata": {
    "collapsed": true
   },
   "outputs": [],
   "source": [
    "# get current directory\n",
    "dir = os.path.dirname(os.path.abspath('__file__'))"
   ]
  },
  {
   "cell_type": "markdown",
   "metadata": {},
   "source": [
    "# Load pre-processed data"
   ]
  },
  {
   "cell_type": "code",
   "execution_count": 38,
   "metadata": {
    "collapsed": true
   },
   "outputs": [],
   "source": [
    "# Load df from a csv (approx 5 mins)\n",
    "file_path = os.path.join(dir, '02_processed_data','restaurant_reviews.csv')\n",
    "joint_df = pd.read_csv(file_path, index_col = False, parse_dates= ['date'])"
   ]
  },
  {
   "cell_type": "markdown",
   "metadata": {},
   "source": [
    "# Vectorize data\n",
    "## Define vectorizer"
   ]
  },
  {
   "cell_type": "code",
   "execution_count": 21,
   "metadata": {},
   "outputs": [
    {
     "name": "stdout",
     "output_type": "stream",
     "text": [
      "3000\n"
     ]
    }
   ],
   "source": [
    "# Initialize scikit-learn's bag of words tool -  \"CountVectorizer\"\n",
    "# Source: http://scikit-learn.org/stable/modules/generated/sklearn.feature_extraction.text.CountVectorizer.html\n",
    "n_features = 3000\n",
    "vectorizer = CountVectorizer(analyzer = 'word',\n",
    "                             max_features = n_features,\n",
    "                             max_df=0.95, \n",
    "                             min_df=2).fit(\" \".join(line) for line in joint_df['processed_review'])\n",
    "print (len(vectorizer.vocabulary_))"
   ]
  },
  {
   "cell_type": "markdown",
   "metadata": {},
   "source": [
    "## Vectorize text"
   ]
  },
  {
   "cell_type": "code",
   "execution_count": 22,
   "metadata": {
    "collapsed": true
   },
   "outputs": [],
   "source": [
    "# Vectorize text and convert the result to an Numpy array\n",
    "vectorized_text = vectorizer.transform(\" \".join(line) for line in joint_df['processed_review'])\n",
    "vectorized_text_array = vectorized_text.toarray()"
   ]
  },
  {
   "cell_type": "markdown",
   "metadata": {},
   "source": [
    "## Explore word vector properties and most common words"
   ]
  },
  {
   "cell_type": "code",
   "execution_count": 23,
   "metadata": {},
   "outputs": [
    {
     "name": "stdout",
     "output_type": "stream",
     "text": [
      "sparse matrix shape: (2876509, 3000)\n",
      "number of non-zeros: 119826809\n",
      "sparsity: 1.39%\n",
      "food            2293171\n",
      "good            1892858\n",
      "place           1889152\n",
      "great           1344620\n",
      "service         1180824\n",
      "time            1178872\n",
      "like            1131077\n",
      "one             1004655\n",
      "get              938087\n",
      "back             863566\n",
      "go               857214\n",
      "really           827370\n",
      "restaurant       826086\n",
      "would            821958\n",
      "ordered          700710\n",
      "order            698338\n",
      "also             658247\n",
      "chicken          643743\n",
      "menu             595335\n",
      "got              580615\n",
      "nice             557659\n",
      "best             555557\n",
      "come             543735\n",
      "well             541939\n",
      "came             533220\n",
      "try              531427\n",
      "delicious        526938\n",
      "table            519562\n",
      "even             514624\n",
      "love             504504\n",
      "                 ...   \n",
      "deliciously        5203\n",
      "sriracha           5203\n",
      "macaroon           5199\n",
      "politely           5199\n",
      "remove             5197\n",
      "americanized       5195\n",
      "eager              5195\n",
      "carolina           5191\n",
      "traveling          5189\n",
      "surrounding        5188\n",
      "fixe               5187\n",
      "reviewed           5180\n",
      "garage             5177\n",
      "timing             5174\n",
      "tipped             5173\n",
      "ignore             5173\n",
      "opposed            5167\n",
      "chilled            5167\n",
      "powder             5164\n",
      "smart              5161\n",
      "eve                5157\n",
      "matcha             5150\n",
      "holding            5149\n",
      "success            5143\n",
      "towel              5142\n",
      "pricier            5140\n",
      "july               5136\n",
      "push               5135\n",
      "fritter            5132\n",
      "boat               5126\n",
      "Length: 3000, dtype: int64\n"
     ]
    }
   ],
   "source": [
    "# Get list of words in the vocabulary\n",
    "vocab = vectorizer.get_feature_names()\n",
    "\n",
    "# Sum up the counts of each vocabulary word\n",
    "dist = np.sum(vectorized_text_array, axis=0)\n",
    "\n",
    "# Explore vector metrics\n",
    "print ('sparse matrix shape:', vectorized_text.shape)\n",
    "print ('number of non-zeros:', vectorized_text.nnz)\n",
    "print ('sparsity: %.2f%%' % (100.0 * vectorized_text.nnz / (vectorized_text.shape[0] * vectorized_text.shape[1])))\n",
    "\n",
    "# Print most used words in reverse order\n",
    "print( pd.Series( dict(list(zip(vocab, dist))) ).sort_values( ascending = False) )"
   ]
  },
  {
   "cell_type": "markdown",
   "metadata": {
    "collapsed": true
   },
   "source": [
    "# Explore the vector"
   ]
  },
  {
   "cell_type": "code",
   "execution_count": 24,
   "metadata": {},
   "outputs": [
    {
     "name": "stdout",
     "output_type": "stream",
     "text": [
      "[23 36 56 ..., 64 33 28]\n"
     ]
    }
   ],
   "source": [
    "# Sum up the word counts of each review\n",
    "review_words = np.sum(vectorized_text_array, axis=1)\n",
    "print(review_words)"
   ]
  },
  {
   "cell_type": "code",
   "execution_count": 25,
   "metadata": {},
   "outputs": [
    {
     "name": "stdout",
     "output_type": "stream",
     "text": [
      "Mean : 50.1913590397\n"
     ]
    },
    {
     "data": {
      "image/png": "[encoded data removed]",
      "text/plain": [
       "<matplotlib.figure.Figure at 0x2b07ab278>"
      ]
     },
     "metadata": {},
     "output_type": "display_data"
    }
   ],
   "source": [
    "print( 'Mean :', np.mean(review_words) )\n",
    "review_word_count = pd.Series(review_words)\n",
    "review_word_count.plot(kind='hist', bins=25, normed=True, cumulative=True)\n",
    "plt.show()"
   ]
  },
  {
   "cell_type": "markdown",
   "metadata": {},
   "source": [
    "## Save vectorized text array"
   ]
  },
  {
   "cell_type": "code",
   "execution_count": null,
   "metadata": {
    "collapsed": true
   },
   "outputs": [],
   "source": [
    "# Save vectorized text into a npy\n",
    "# https://stackoverflow.com/questions/28439701/how-to-save-and-load-numpy-array-data-properly\n",
    "filename_out = os.path.join(dir, '02_processed_data','vectorized_reviews.npy')\n",
    "np.save(filename_out, vectorized_text_array)    # .npy extension is added if not given\n",
    "\n",
    "# note to load use vectorized_text_array = np.load(filename_out)"
   ]
  }
 ],
 "metadata": {
  "kernelspec": {
   "display_name": "Python 3",
   "language": "python",
   "name": "python3"
  },
  "language_info": {
   "codemirror_mode": {
    "name": "ipython",
    "version": 3
   },
   "file_extension": ".py",
   "mimetype": "text/x-python",
   "name": "python",
   "nbconvert_exporter": "python",
   "pygments_lexer": "ipython3",
   "version": "3.6.2"
  }
 },
 "nbformat": 4,
 "nbformat_minor": 2
}
